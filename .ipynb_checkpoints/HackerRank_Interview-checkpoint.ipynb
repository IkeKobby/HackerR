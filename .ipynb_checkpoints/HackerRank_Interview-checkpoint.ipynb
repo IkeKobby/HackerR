{
 "cells": [
  {
   "cell_type": "code",
   "execution_count": 1,
   "id": "modern-valuation",
   "metadata": {},
   "outputs": [],
   "source": [
    "import numpy as np"
   ]
  },
  {
   "cell_type": "code",
   "execution_count": 2,
   "id": "speaking-tampa",
   "metadata": {},
   "outputs": [],
   "source": [
    "def plusMinus(arr):\n",
    "    # Write your code here\n",
    "    n = len(arr)\n",
    "    \n",
    "    if [(-100 <= i <= 100) for i in arr] and (0 < len(arr) <= 100):\n",
    "        positive_values = [i for i in arr if i > 0]\n",
    "        number_positive_values = len(positive_values)\n",
    "        postive_ratio = number_positive_values / n\n",
    "        postive_ratio = '{:.6f}'.format(postive_ratio)\n",
    "        \n",
    "        negative_values = [i for i in arr if i < 0]\n",
    "        number_negative_values = len(negative_values)\n",
    "        negative_ratio = number_negative_values / n\n",
    "        negative_ratio = '\\n{:.6f}'.format(negative_ratio)\n",
    "        \n",
    "        zero_values = [i for i in arr if i == 0]\n",
    "        number_zero_values = len(zero_values)\n",
    "        zero_ratio = number_zero_values / n\n",
    "        zero_ratio = '\\n{:.6f}'.format(zero_ratio)\n",
    "    else:\n",
    "        raise ValueError('The size of the array is outside the the range 0 < n <= 100')\n",
    "        \n",
    "    print(postive_ratio, negative_ratio, zero_ratio)"
   ]
  },
  {
   "cell_type": "code",
   "execution_count": 3,
   "id": "fourth-assistant",
   "metadata": {},
   "outputs": [],
   "source": [
    "arr = np.array(np.random.normal(0, 1, 100))"
   ]
  },
  {
   "cell_type": "code",
   "execution_count": 4,
   "id": "demographic-refrigerator",
   "metadata": {},
   "outputs": [
    {
     "name": "stdout",
     "output_type": "stream",
     "text": [
      "0.450000 \n",
      "0.550000 \n",
      "0.000000\n"
     ]
    }
   ],
   "source": [
    "plusMinus(arr)"
   ]
  },
  {
   "cell_type": "markdown",
   "id": "funny-subject",
   "metadata": {},
   "source": [
    "# Question 2"
   ]
  },
  {
   "cell_type": "code",
   "execution_count": 5,
   "id": "interior-murray",
   "metadata": {},
   "outputs": [],
   "source": [
    "def miniMaxSum(arr):\n",
    "    # Write your code here\n",
    "    if [(1 <= i <= 10**9) for i in arr]:\n",
    "        sum_ = []\n",
    "        if arr.count(arr[0]) == len(arr):\n",
    "            print( 4*len(arr), 4*len(arr) )\n",
    "        else:\n",
    "            for i in range(len(arr)):\n",
    "                sum_.append(sum([val for val in arr if not arr[i] == val]))\n",
    "            min_value = min(sum_)\n",
    "            max_value = max(sum_)\n",
    "            print(min_value, max_value)\n",
    "    else:\n",
    "        raise ValueError('An array value is off the constraint--> 1 <= arr[i] <= 10^9')"
   ]
  },
  {
   "cell_type": "code",
   "execution_count": 6,
   "id": "miniature-spray",
   "metadata": {},
   "outputs": [
    {
     "name": "stdout",
     "output_type": "stream",
     "text": [
      "10 14\n"
     ]
    }
   ],
   "source": [
    "miniMaxSum([1,2,3,4,5])"
   ]
  },
  {
   "cell_type": "code",
   "execution_count": 7,
   "id": "adopted-atlanta",
   "metadata": {},
   "outputs": [],
   "source": [
    "a = [5,5,5,5,5]"
   ]
  },
  {
   "cell_type": "markdown",
   "id": "juvenile-antarctica",
   "metadata": {},
   "source": [
    "# Question 3"
   ]
  },
  {
   "cell_type": "code",
   "execution_count": 8,
   "id": "annoying-draft",
   "metadata": {},
   "outputs": [],
   "source": [
    "def timeConversion(s):\n",
    "    # Write your code here\n",
    "    hour = int(s[:2])\n",
    "    \n",
    "    if (hour == 12) and s.endswith('AM'):\n",
    "        hour  = '00'\n",
    "        return (hour + s[2:8])\n",
    "    \n",
    "    elif (hour != 12) and s.endswith('AM') :\n",
    "        hour = s[:2]\n",
    "        return (hour + s[2:8])\n",
    "\n",
    "    elif (hour != 12) and s.endswith('PM'):\n",
    "        hour = str(int(s[:2]) + 12)\n",
    "        return (hour + s[2:8])\n",
    "    \n",
    "    elif (hour == 12) and s.endswith('PM'):\n",
    "        hour = s[:2]\n",
    "        return (hour + s[2:8])"
   ]
  },
  {
   "cell_type": "code",
   "execution_count": 9,
   "id": "oriented-rogers",
   "metadata": {},
   "outputs": [],
   "source": [
    "s = '12:01:00PM'\n",
    "\n",
    "s2 = '12:05:45PM'"
   ]
  },
  {
   "cell_type": "code",
   "execution_count": 10,
   "id": "binding-ivory",
   "metadata": {},
   "outputs": [
    {
     "data": {
      "text/plain": [
       "'12:05:45'"
      ]
     },
     "execution_count": 10,
     "metadata": {},
     "output_type": "execute_result"
    }
   ],
   "source": [
    "timeConversion(s2)"
   ]
  },
  {
   "cell_type": "code",
   "execution_count": 11,
   "id": "modern-crime",
   "metadata": {},
   "outputs": [],
   "source": [
    "def fizzBuzz(n):\n",
    "    # Write your code here\n",
    "    for i in range(1, n+1):\n",
    "        if i % 3 == 0 and i % 5 == 0:\n",
    "            print('FizzBuzz')\n",
    "        elif i % 3 ==0 and i%5 != 0:\n",
    "            print('Fizz')\n",
    "        elif i % 5 ==0 and i%3 != 0:\n",
    "            print('Buzz')\n",
    "        elif i % 3 != 0 or i%5 != 0:\n",
    "            print(i)"
   ]
  },
  {
   "cell_type": "code",
   "execution_count": 12,
   "id": "completed-wheel",
   "metadata": {},
   "outputs": [
    {
     "name": "stdout",
     "output_type": "stream",
     "text": [
      "1\n",
      "2\n",
      "Fizz\n",
      "4\n",
      "Buzz\n",
      "Fizz\n",
      "7\n",
      "8\n",
      "Fizz\n",
      "Buzz\n"
     ]
    }
   ],
   "source": [
    "fizzBuzz(10)"
   ]
  },
  {
   "cell_type": "code",
   "execution_count": 13,
   "id": "swedish-connecticut",
   "metadata": {},
   "outputs": [],
   "source": [
    "def findMedian(arr):\n",
    "    # Write your code here\n",
    "    n = len(arr)\n",
    "    arr = sorted(arr)\n",
    "    median =  arr[n//2]\n",
    "    return median"
   ]
  },
  {
   "cell_type": "code",
   "execution_count": 14,
   "id": "adjacent-student",
   "metadata": {},
   "outputs": [
    {
     "data": {
      "text/plain": [
       "3"
      ]
     },
     "execution_count": 14,
     "metadata": {},
     "output_type": "execute_result"
    }
   ],
   "source": [
    "arr = [0, 3, 4, 1, 5]\n",
    "findMedian(arr)"
   ]
  },
  {
   "cell_type": "code",
   "execution_count": 15,
   "id": "seeing-blank",
   "metadata": {},
   "outputs": [
    {
     "name": "stdout",
     "output_type": "stream",
     "text": [
      "Median is: 3\n"
     ]
    }
   ],
   "source": [
    "n_num = [1, 2, 3, 4, 5]\n",
    "n = len(n_num)\n",
    "n_num.sort()\n",
    "  \n",
    "if n % 2 == 0:\n",
    "    median1 = n_num[n//2]\n",
    "    median2 = n_num[n//2 - 1]\n",
    "    median = (median1 + median2)/2\n",
    "else:\n",
    "    median = n_num[n//2]\n",
    "print(\"Median is: \" + str(median))"
   ]
  },
  {
   "cell_type": "code",
   "execution_count": 16,
   "id": "united-melissa",
   "metadata": {},
   "outputs": [
    {
     "data": {
      "text/plain": [
       "False"
      ]
     },
     "execution_count": 16,
     "metadata": {},
     "output_type": "execute_result"
    }
   ],
   "source": [
    " arr.count(arr[0]) == len(arr)"
   ]
  },
  {
   "cell_type": "code",
   "execution_count": 17,
   "id": "amber-instruction",
   "metadata": {},
   "outputs": [],
   "source": [
    "def lonelyinteger(a):\n",
    "    # Write your code here\n",
    "    n = len(a)\n",
    "    if (1 <= n < 100) and n % 2 != 0:\n",
    "        unique_element = [a[i] for i in range(len(a)) if a.count(a[i]) < 2][0]\n",
    "        return unique_element\n",
    "    else:\n",
    "        raise ValueError('Length of array must be odd and one unique element')"
   ]
  },
  {
   "cell_type": "code",
   "execution_count": 18,
   "id": "finite-millennium",
   "metadata": {},
   "outputs": [
    {
     "data": {
      "text/plain": [
       "array([[1, 2, 3],\n",
       "       [4, 5, 6],\n",
       "       [9, 8, 9]])"
      ]
     },
     "execution_count": 18,
     "metadata": {},
     "output_type": "execute_result"
    }
   ],
   "source": [
    "matrix = np.array([ [1, 2, 3],\n",
    "           [4, 5, 6],\n",
    "           [9, 8, 9] ])\n",
    "matrix"
   ]
  },
  {
   "cell_type": "code",
   "execution_count": 19,
   "id": "angry-virtue",
   "metadata": {},
   "outputs": [],
   "source": [
    "def diagonalDifference(arr):\n",
    "    # Write your code here\n",
    "    dim = len(arr)\n",
    "    right_diag = [arr[i][i] for i in range(dim)]\n",
    "    left_diag = [arr[i][-(i+1)] for i in range(dim)]\n",
    "\n",
    "    return abs(sum(right_diag) - sum(left_diag))"
   ]
  },
  {
   "cell_type": "code",
   "execution_count": 20,
   "id": "surface-teddy",
   "metadata": {},
   "outputs": [
    {
     "data": {
      "text/plain": [
       "2"
      ]
     },
     "execution_count": 20,
     "metadata": {},
     "output_type": "execute_result"
    }
   ],
   "source": [
    "diagonalDifference(matrix)"
   ]
  },
  {
   "cell_type": "code",
   "execution_count": 22,
   "id": "traditional-course",
   "metadata": {},
   "outputs": [],
   "source": [
    "arr4 = [1, 1, 3, 2, 1]"
   ]
  },
  {
   "cell_type": "code",
   "execution_count": 29,
   "id": "romantic-border",
   "metadata": {},
   "outputs": [
    {
     "data": {
      "text/plain": [
       "array([0, 0, 0, 0, 0])"
      ]
     },
     "execution_count": 29,
     "metadata": {},
     "output_type": "execute_result"
    }
   ],
   "source": [
    "np.zeros(len(set(arr)), dtype = 'int')"
   ]
  },
  {
   "cell_type": "code",
   "execution_count": 37,
   "id": "stainless-currency",
   "metadata": {},
   "outputs": [
    {
     "data": {
      "text/plain": [
       "[0, 3, 4, 1, 5]"
      ]
     },
     "execution_count": 37,
     "metadata": {},
     "output_type": "execute_result"
    }
   ],
   "source": [
    "arr"
   ]
  },
  {
   "cell_type": "code",
   "execution_count": 54,
   "id": "limiting-judges",
   "metadata": {},
   "outputs": [],
   "source": [
    "def countingSort(arr):\n",
    "    # Write your code here\n",
    "    results = [0 for _ in range(100)]\n",
    "    for i in range(len(arr)):\n",
    "        results[arr[i]] += 1 \n",
    "    return results"
   ]
  },
  {
   "cell_type": "code",
   "execution_count": 56,
   "id": "industrial-steering",
   "metadata": {},
   "outputs": [
    {
     "data": {
      "text/plain": [
       "[1, 1, 0, 1, 1, 1, 0, 0, 0, 0]"
      ]
     },
     "execution_count": 56,
     "metadata": {},
     "output_type": "execute_result"
    }
   ],
   "source": [
    "sorting = countingSort(arr)\n",
    "sorting[:10]"
   ]
  },
  {
   "cell_type": "code",
   "execution_count": 97,
   "id": "express-wichita",
   "metadata": {},
   "outputs": [],
   "source": [
    "def ReverseMatrix(arr):\n",
    "    col_2 = [arr[i][2] for i in range(len(arr))]\n",
    "    col_2 = [col_2[len(col_2)-i] for i in range(1, len(col_2) + 1) ]\n",
    "    \n",
    "    for i in range(len(arr)):\n",
    "        arr[i][2] = col_2[i]\n",
    "        \n",
    "    row_0 = arr[0]\n",
    "    row_0 = [row_0[len(row_0)-i] for i in range(1, len(row_0) + 1) ]\n",
    "    \n",
    "    for i in range(len(arr)):\n",
    "        arr[0][i] = row_0[i]\n",
    "        \n",
    "    return sum(arr[0][:2]) + sum(arr[1][:2])"
   ]
  },
  {
   "cell_type": "code",
   "execution_count": 108,
   "id": "formed-entertainment",
   "metadata": {},
   "outputs": [],
   "source": [
    "matrix = [[112, 42, 83, 119], [56, 125, 56, 49], \\\n",
    "[15, 78, 101, 43], [62, 98, 114, 108]]"
   ]
  },
  {
   "cell_type": "code",
   "execution_count": 109,
   "id": "durable-technology",
   "metadata": {},
   "outputs": [
    {
     "data": {
      "text/plain": [
       "array([[112,  42,  83, 119],\n",
       "       [ 56, 125,  56,  49],\n",
       "       [ 15,  78, 101,  43],\n",
       "       [ 62,  98, 114, 108]])"
      ]
     },
     "execution_count": 109,
     "metadata": {},
     "output_type": "execute_result"
    }
   ],
   "source": [
    "np.array(matrix)"
   ]
  },
  {
   "cell_type": "code",
   "execution_count": 110,
   "id": "committed-agency",
   "metadata": {},
   "outputs": [
    {
     "data": {
      "text/plain": [
       "414"
      ]
     },
     "execution_count": 110,
     "metadata": {},
     "output_type": "execute_result"
    }
   ],
   "source": [
    "ReverseMatrix(matrix)"
   ]
  },
  {
   "cell_type": "code",
   "execution_count": 111,
   "id": "stuffed-motivation",
   "metadata": {},
   "outputs": [
    {
     "data": {
      "text/plain": [
       "array([[119, 114,  42, 112],\n",
       "       [ 56, 125, 101,  49],\n",
       "       [ 15,  78,  56,  43],\n",
       "       [ 62,  98,  83, 108]])"
      ]
     },
     "execution_count": 111,
     "metadata": {},
     "output_type": "execute_result"
    }
   ],
   "source": [
    "np.array(matrix)"
   ]
  },
  {
   "cell_type": "code",
   "execution_count": null,
   "id": "disabled-beach",
   "metadata": {},
   "outputs": [],
   "source": []
  }
 ],
 "metadata": {
  "kernelspec": {
   "display_name": "Python 3",
   "language": "python",
   "name": "python3"
  },
  "language_info": {
   "codemirror_mode": {
    "name": "ipython",
    "version": 3
   },
   "file_extension": ".py",
   "mimetype": "text/x-python",
   "name": "python",
   "nbconvert_exporter": "python",
   "pygments_lexer": "ipython3",
   "version": "3.8.5"
  }
 },
 "nbformat": 4,
 "nbformat_minor": 5
}
