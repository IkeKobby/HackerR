{
 "cells": [
  {
   "cell_type": "code",
   "execution_count": 2,
   "metadata": {},
   "outputs": [
    {
     "name": "stdout",
     "output_type": "stream",
     "text": [
      "T-statistic: 7.518419361508849\n",
      "P-value: 1.0483614246023922e-09\n",
      "Reject the null hypothesis\n"
     ]
    }
   ],
   "source": [
    "import scipy.stats as stats\n",
    "\n",
    "# Sample data\n",
    "data = [969, 964, 962, 958, 963, 979, 950, 968, 954, 966, 954, 937, 956, 987, 942, 956, 956, 966, 961, 951, 951, 968, 973, 962, 952, 954, 961, 974, 965, 958, 965, 966, 960, 954, 957, 953, 980, 969, 958, 952, 945, 954, 962, 950, 974, 975, 956, 953, 969, 956]\n",
    "\n",
    "# sample mean\n",
    "sample_mean = sum(data)/ len(data)\n",
    "\n",
    "# Historical mean\n",
    "historical_mean = 950\n",
    "\n",
    "# Perform t-test\n",
    "t_stat, p_value = stats.ttest_1samp(data, historical_mean)\n",
    "\n",
    "# Print results\n",
    "print(\"T-statistic:\", t_stat)\n",
    "print(\"P-value:\", p_value)\n",
    "\n",
    "# Check significance\n",
    "alpha = 0.05\n",
    "if p_value < alpha:\n",
    "    print(\"Reject the null hypothesis\")\n",
    "else:\n",
    "    print(\"Fail to reject the null hypothesis\")\n"
   ]
  },
  {
   "cell_type": "code",
   "execution_count": 6,
   "metadata": {},
   "outputs": [
    {
     "data": {
      "text/plain": [
       "960.5"
      ]
     },
     "execution_count": 6,
     "metadata": {},
     "output_type": "execute_result"
    }
   ],
   "source": [
    "sample_mean"
   ]
  },
  {
   "cell_type": "markdown",
   "metadata": {},
   "source": [
    "#### Confidence interval"
   ]
  },
  {
   "cell_type": "code",
   "execution_count": 5,
   "metadata": {},
   "outputs": [
    {
     "name": "stdout",
     "output_type": "stream",
     "text": [
      "95% Confidence Interval: (957.6934872281582, 963.3065127718418)\n"
     ]
    }
   ],
   "source": [
    "confidence_interval = stats.t.interval(0.95, len(data) - 1, loc=sample_mean, scale=stats.sem(data))\n",
    "print(\"95% Confidence Interval:\", confidence_interval)"
   ]
  },
  {
   "cell_type": "code",
   "execution_count": null,
   "metadata": {},
   "outputs": [],
   "source": []
  }
 ],
 "metadata": {
  "kernelspec": {
   "display_name": "ds-programming",
   "language": "python",
   "name": "python3"
  },
  "language_info": {
   "codemirror_mode": {
    "name": "ipython",
    "version": 3
   },
   "file_extension": ".py",
   "mimetype": "text/x-python",
   "name": "python",
   "nbconvert_exporter": "python",
   "pygments_lexer": "ipython3",
   "version": "3.10.5"
  },
  "orig_nbformat": 4
 },
 "nbformat": 4,
 "nbformat_minor": 2
}
