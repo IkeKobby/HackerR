{
 "cells": [
  {
   "cell_type": "code",
   "execution_count": 1,
   "id": "narrow-temperature",
   "metadata": {},
   "outputs": [],
   "source": [
    "import numpy as np"
   ]
  },
  {
   "cell_type": "code",
   "execution_count": 2,
   "id": "emerging-bidder",
   "metadata": {},
   "outputs": [],
   "source": [
    "def plusMinus(arr):\n",
    "    # Write your code here\n",
    "    n = len(arr)\n",
    "    \n",
    "    if [(-100 <= i <= 100) for i in arr] and (0 < len(arr) <= 100):\n",
    "        positive_values = [i for i in arr if i > 0]\n",
    "        number_positive_values = len(positive_values)\n",
    "        postive_ratio = number_positive_values / n\n",
    "        postive_ratio = '{:.6f}'.format(postive_ratio)\n",
    "        \n",
    "        negative_values = [i for i in arr if i < 0]\n",
    "        number_negative_values = len(negative_values)\n",
    "        negative_ratio = number_negative_values / n\n",
    "        negative_ratio = '\\n{:.6f}'.format(negative_ratio)\n",
    "        \n",
    "        zero_values = [i for i in arr if i == 0]\n",
    "        number_zero_values = len(zero_values)\n",
    "        zero_ratio = number_zero_values / n\n",
    "        zero_ratio = '\\n{:.6f}'.format(zero_ratio)\n",
    "    else:\n",
    "        raise ValueError('The size of the array is outside the the range 0 < n <= 100')\n",
    "        \n",
    "    print(postive_ratio, negative_ratio, zero_ratio)"
   ]
  },
  {
   "cell_type": "code",
   "execution_count": 3,
   "id": "mobile-buying",
   "metadata": {},
   "outputs": [],
   "source": [
    "arr = np.array(np.random.normal(0, 1, 100))"
   ]
  },
  {
   "cell_type": "code",
   "execution_count": 4,
   "id": "cheap-stanley",
   "metadata": {},
   "outputs": [
    {
     "name": "stdout",
     "output_type": "stream",
     "text": [
      "0.450000 \n",
      "0.550000 \n",
      "0.000000\n"
     ]
    }
   ],
   "source": [
    "plusMinus(arr)"
   ]
  },
  {
   "cell_type": "markdown",
   "id": "needed-trailer",
   "metadata": {},
   "source": [
    "# Question 2"
   ]
  },
  {
   "cell_type": "code",
   "execution_count": 5,
   "id": "precise-violin",
   "metadata": {},
   "outputs": [],
   "source": [
    "def miniMaxSum(arr):\n",
    "    # Write your code here\n",
    "    if [(1 <= i <= 10**9) for i in arr]:\n",
    "        sum_ = []\n",
    "        if arr.count(arr[0]) == len(arr):\n",
    "            print( 4*len(arr), 4*len(arr) )\n",
    "        else:\n",
    "            for i in range(len(arr)):\n",
    "                sum_.append(sum([val for val in arr if not arr[i] == val]))\n",
    "            min_value = min(sum_)\n",
    "            max_value = max(sum_)\n",
    "            print(min_value, max_value)\n",
    "    else:\n",
    "        raise ValueError('An array value is off the constraint--> 1 <= arr[i] <= 10^9')"
   ]
  },
  {
   "cell_type": "code",
   "execution_count": 6,
   "id": "fiscal-namibia",
   "metadata": {},
   "outputs": [
    {
     "name": "stdout",
     "output_type": "stream",
     "text": [
      "10 14\n"
     ]
    }
   ],
   "source": [
    "miniMaxSum([1,2,3,4,5])"
   ]
  },
  {
   "cell_type": "code",
   "execution_count": 7,
   "id": "placed-azerbaijan",
   "metadata": {},
   "outputs": [],
   "source": [
    "a = [5,5,5,5,5]"
   ]
  },
  {
   "cell_type": "markdown",
   "id": "solar-chinese",
   "metadata": {},
   "source": [
    "# Question 3"
   ]
  },
  {
   "cell_type": "code",
   "execution_count": 8,
   "id": "beautiful-confusion",
   "metadata": {},
   "outputs": [],
   "source": [
    "def timeConversion(s):\n",
    "    # Write your code here\n",
    "    hour = int(s[:2])\n",
    "    \n",
    "    if (hour == 12) and s.endswith('AM'):\n",
    "        hour  = '00'\n",
    "        return (hour + s[2:8])\n",
    "    \n",
    "    elif (hour != 12) and s.endswith('AM') :\n",
    "        hour = s[:2]\n",
    "        return (hour + s[2:8])\n",
    "\n",
    "    elif (hour != 12) and s.endswith('PM'):\n",
    "        hour = str(int(s[:2]) + 12)\n",
    "        return (hour + s[2:8])\n",
    "    \n",
    "    elif (hour == 12) and s.endswith('PM'):\n",
    "        hour = s[:2]\n",
    "        return (hour + s[2:8])"
   ]
  },
  {
   "cell_type": "code",
   "execution_count": 9,
   "id": "nervous-generation",
   "metadata": {},
   "outputs": [],
   "source": [
    "s = '12:01:00PM'\n",
    "\n",
    "s2 = '12:05:45PM'"
   ]
  },
  {
   "cell_type": "code",
   "execution_count": 10,
   "id": "adopted-retro",
   "metadata": {},
   "outputs": [
    {
     "data": {
      "text/plain": [
       "'12:05:45'"
      ]
     },
     "execution_count": 10,
     "metadata": {},
     "output_type": "execute_result"
    }
   ],
   "source": [
    "timeConversion(s2)"
   ]
  },
  {
   "cell_type": "code",
   "execution_count": 11,
   "id": "ultimate-actress",
   "metadata": {},
   "outputs": [],
   "source": [
    "def fizzBuzz(n):\n",
    "    # Write your code here\n",
    "    for i in range(1, n+1):\n",
    "        if i % 3 == 0 and i % 5 == 0:\n",
    "            print('FizzBuzz')\n",
    "        elif i % 3 ==0 and i%5 != 0:\n",
    "            print('Fizz')\n",
    "        elif i % 5 ==0 and i%3 != 0:\n",
    "            print('Buzz')\n",
    "        elif i % 3 != 0 or i%5 != 0:\n",
    "            print(i)"
   ]
  },
  {
   "cell_type": "code",
   "execution_count": 12,
   "id": "residential-muslim",
   "metadata": {},
   "outputs": [
    {
     "name": "stdout",
     "output_type": "stream",
     "text": [
      "1\n",
      "2\n",
      "Fizz\n",
      "4\n",
      "Buzz\n",
      "Fizz\n",
      "7\n",
      "8\n",
      "Fizz\n",
      "Buzz\n"
     ]
    }
   ],
   "source": [
    "fizzBuzz(10)"
   ]
  },
  {
   "cell_type": "code",
   "execution_count": 7,
   "id": "parental-composition",
   "metadata": {},
   "outputs": [],
   "source": [
    "def findMedian(arr):\n",
    "    # Write your code here\n",
    "    n = len(arr)\n",
    "    arr = sorted(arr)\n",
    "    median =  arr[n//2]\n",
    "    return median"
   ]
  },
  {
   "cell_type": "code",
   "execution_count": 14,
   "id": "mechanical-balloon",
   "metadata": {},
   "outputs": [
    {
     "data": {
      "text/plain": [
       "3"
      ]
     },
     "execution_count": 14,
     "metadata": {},
     "output_type": "execute_result"
    }
   ],
   "source": [
    "arr = [0, 3, 4, 1, 5]\n",
    "findMedian(arr)"
   ]
  },
  {
   "cell_type": "code",
   "execution_count": 15,
   "id": "experienced-softball",
   "metadata": {},
   "outputs": [
    {
     "name": "stdout",
     "output_type": "stream",
     "text": [
      "Median is: 3\n"
     ]
    }
   ],
   "source": [
    "n_num = [1, 2, 3, 4, 5]\n",
    "n = len(n_num)\n",
    "n_num.sort()\n",
    "  \n",
    "if n % 2 == 0:\n",
    "    median1 = n_num[n//2]\n",
    "    median2 = n_num[n//2 - 1]\n",
    "    median = (median1 + median2)/2\n",
    "else:\n",
    "    median = n_num[n//2]\n",
    "print(\"Median is: \" + str(median))"
   ]
  },
  {
   "cell_type": "code",
   "execution_count": 16,
   "id": "acoustic-prayer",
   "metadata": {},
   "outputs": [
    {
     "data": {
      "text/plain": [
       "False"
      ]
     },
     "execution_count": 16,
     "metadata": {},
     "output_type": "execute_result"
    }
   ],
   "source": [
    " arr.count(arr[0]) == len(arr)"
   ]
  },
  {
   "cell_type": "code",
   "execution_count": 17,
   "id": "collectible-mexico",
   "metadata": {},
   "outputs": [],
   "source": [
    "def lonelyinteger(a):\n",
    "    # Write your code here\n",
    "    n = len(a)\n",
    "    if (1 <= n < 100) and n % 2 != 0:\n",
    "        unique_element = [a[i] for i in range(len(a)) if a.count(a[i]) < 2][0]\n",
    "        return unique_element\n",
    "    else:\n",
    "        raise ValueError('Length of array must be odd and one unique element')"
   ]
  },
  {
   "cell_type": "code",
   "execution_count": 18,
   "id": "attempted-assistant",
   "metadata": {},
   "outputs": [
    {
     "data": {
      "text/plain": [
       "array([[1, 2, 3],\n",
       "       [4, 5, 6],\n",
       "       [9, 8, 9]])"
      ]
     },
     "execution_count": 18,
     "metadata": {},
     "output_type": "execute_result"
    }
   ],
   "source": [
    "matrix = np.array([ [1, 2, 3],\n",
    "           [4, 5, 6],\n",
    "           [9, 8, 9] ])\n",
    "matrix"
   ]
  },
  {
   "cell_type": "code",
   "execution_count": 19,
   "id": "backed-smooth",
   "metadata": {},
   "outputs": [],
   "source": [
    "def diagonalDifference(arr):\n",
    "    # Write your code here\n",
    "    dim = len(arr)\n",
    "    right_diag = [arr[i][i] for i in range(dim)]\n",
    "    left_diag = [arr[i][-(i+1)] for i in range(dim)]\n",
    "\n",
    "    return abs(sum(right_diag) - sum(left_diag))"
   ]
  },
  {
   "cell_type": "code",
   "execution_count": 20,
   "id": "indoor-power",
   "metadata": {},
   "outputs": [
    {
     "data": {
      "text/plain": [
       "2"
      ]
     },
     "execution_count": 20,
     "metadata": {},
     "output_type": "execute_result"
    }
   ],
   "source": [
    "diagonalDifference(matrix)"
   ]
  },
  {
   "cell_type": "code",
   "execution_count": 22,
   "id": "indoor-hammer",
   "metadata": {},
   "outputs": [],
   "source": [
    "arr4 = [1, 1, 3, 2, 1]"
   ]
  },
  {
   "cell_type": "code",
   "execution_count": 29,
   "id": "forward-afghanistan",
   "metadata": {},
   "outputs": [
    {
     "data": {
      "text/plain": [
       "array([0, 0, 0, 0, 0])"
      ]
     },
     "execution_count": 29,
     "metadata": {},
     "output_type": "execute_result"
    }
   ],
   "source": [
    "np.zeros(len(set(arr)), dtype = 'int')"
   ]
  },
  {
   "cell_type": "code",
   "execution_count": 37,
   "id": "resistant-victory",
   "metadata": {},
   "outputs": [
    {
     "data": {
      "text/plain": [
       "[0, 3, 4, 1, 5]"
      ]
     },
     "execution_count": 37,
     "metadata": {},
     "output_type": "execute_result"
    }
   ],
   "source": [
    "arr"
   ]
  },
  {
   "cell_type": "code",
   "execution_count": 54,
   "id": "sustainable-lawrence",
   "metadata": {},
   "outputs": [],
   "source": [
    "def countingSort(arr):\n",
    "    # Write your code here\n",
    "    results = [0 for _ in range(100)]\n",
    "    for i in range(len(arr)):\n",
    "        results[arr[i]] += 1 \n",
    "    return results"
   ]
  },
  {
   "cell_type": "code",
   "execution_count": 56,
   "id": "wooden-military",
   "metadata": {},
   "outputs": [
    {
     "data": {
      "text/plain": [
       "[1, 1, 0, 1, 1, 1, 0, 0, 0, 0]"
      ]
     },
     "execution_count": 56,
     "metadata": {},
     "output_type": "execute_result"
    }
   ],
   "source": [
    "sorting = countingSort(arr)\n",
    "sorting[:10]"
   ]
  },
  {
   "cell_type": "code",
   "execution_count": 97,
   "id": "local-bracket",
   "metadata": {},
   "outputs": [],
   "source": [
    "def ReverseMatrix(arr):\n",
    "    col_2 = [arr[i][2] for i in range(len(arr))]\n",
    "    col_2 = [col_2[len(col_2)-i] for i in range(1, len(col_2) + 1) ]\n",
    "    \n",
    "    for i in range(len(arr)):\n",
    "        arr[i][2] = col_2[i]\n",
    "        \n",
    "    row_0 = arr[0]\n",
    "    row_0 = [row_0[len(row_0)-i] for i in range(1, len(row_0) + 1) ]\n",
    "    \n",
    "    for i in range(len(arr)):\n",
    "        arr[0][i] = row_0[i]\n",
    "        \n",
    "    return sum(arr[0][:2]) + sum(arr[1][:2])"
   ]
  },
  {
   "cell_type": "code",
   "execution_count": 108,
   "id": "major-calcium",
   "metadata": {},
   "outputs": [],
   "source": [
    "matrix = [[112, 42, 83, 119], [56, 125, 56, 49], \\\n",
    "[15, 78, 101, 43], [62, 98, 114, 108]]"
   ]
  },
  {
   "cell_type": "code",
   "execution_count": 109,
   "id": "improving-short",
   "metadata": {},
   "outputs": [
    {
     "data": {
      "text/plain": [
       "array([[112,  42,  83, 119],\n",
       "       [ 56, 125,  56,  49],\n",
       "       [ 15,  78, 101,  43],\n",
       "       [ 62,  98, 114, 108]])"
      ]
     },
     "execution_count": 109,
     "metadata": {},
     "output_type": "execute_result"
    }
   ],
   "source": [
    "np.array(matrix)"
   ]
  },
  {
   "cell_type": "code",
   "execution_count": 110,
   "id": "suburban-administration",
   "metadata": {},
   "outputs": [
    {
     "data": {
      "text/plain": [
       "414"
      ]
     },
     "execution_count": 110,
     "metadata": {},
     "output_type": "execute_result"
    }
   ],
   "source": [
    "ReverseMatrix(matrix)"
   ]
  },
  {
   "cell_type": "code",
   "execution_count": 111,
   "id": "treated-bridge",
   "metadata": {},
   "outputs": [
    {
     "data": {
      "text/plain": [
       "array([[119, 114,  42, 112],\n",
       "       [ 56, 125, 101,  49],\n",
       "       [ 15,  78,  56,  43],\n",
       "       [ 62,  98,  83, 108]])"
      ]
     },
     "execution_count": 111,
     "metadata": {},
     "output_type": "execute_result"
    }
   ],
   "source": [
    "np.array(matrix)"
   ]
  },
  {
   "cell_type": "code",
   "execution_count": 47,
   "id": "lovely-institution",
   "metadata": {},
   "outputs": [],
   "source": [
    "def pearson_coefficient(pys_score, his_score):\n",
    "    \n",
    "    mean_pys_score = sum(pys_score) / len(pys_score)\n",
    "    mean_his_score = sum(his_score) / len(his_score)\n",
    "\n",
    "    pys_mean_dev_sum = [(x - mean_pys_score) for x in pys_score]\n",
    "    \n",
    "    his_mean_dev_sum = [(y - mean_his_score) for y in his_score]\n",
    "    \n",
    "    numerator = sum( [( x*y ) for x, y in zip(pys_mean_dev_sum, his_mean_dev_sum) ])\n",
    "    \n",
    "\n",
    "    pys_mean_dev_sum_squared = [(x - mean_pys_score)**2 for x in pys_score]\n",
    "    his_mean_dev_sum_squared = [(y - mean_his_score)**2 for y in his_score]\n",
    "    \n",
    "    denominator = sum(pys_mean_dev_sum_squared) * sum(his_mean_dev_sum_squared)\n",
    "\n",
    "    pearson_coefficient = (numerator) / (denominator) ** 0.5\n",
    "    print(round(pearson_coefficient, 3))"
   ]
  },
  {
   "cell_type": "code",
   "execution_count": 48,
   "id": "usual-boating",
   "metadata": {},
   "outputs": [
    {
     "name": "stdout",
     "output_type": "stream",
     "text": [
      "0.145\n"
     ]
    }
   ],
   "source": [
    "pys_score = [15,  12 , 8,   8,  7,   7,   7,   6,   5,   3]\n",
    "his_score = [10,  25,  17,  11,  13,  17,  20,  13,  9,   15]\n",
    "\n",
    "Score1 = [15,12,8,8,7,7,7,6,5,3] \n",
    "Score2 = [10,25,17,11,13,17,20,13,9,15]\n",
    "\n",
    "pearson_coefficient(pys_score, his_score)"
   ]
  },
  {
   "cell_type": "markdown",
   "id": "bulgarian-projector",
   "metadata": {},
   "source": [
    "# Linear regression"
   ]
  },
  {
   "cell_type": "code",
   "execution_count": null,
   "id": "designing-trainer",
   "metadata": {},
   "outputs": [],
   "source": [
    "import numpy as np\n",
    "from sklearn import linear_model as lm\n",
    "\n",
    "F, N = map(int, input().split())\n",
    "train_vals = np.array([input().split() for _ in range(N)], float)\n",
    "T = int(input())\n",
    "test = np.array([input().split() for _ in range(T)], float)\n",
    "\n",
    "linReg = lm.LinearRegression()\n",
    "linReg.fit(train_vals[:, :-1], train_vals[:, -1])\n",
    "yhat = linReg.predict(test)\n",
    "print(*yhat, sep='\\n')"
   ]
  },
  {
   "cell_type": "code",
   "execution_count": 11,
   "id": "classical-feeling",
   "metadata": {},
   "outputs": [],
   "source": [
    "import numpy as np\n",
    "data = [1,1, 1, 2,3, 5, 5, 8, 12, 13, 14, 14, 15, 15, 18, 100]\n",
    "first_quartile, second, third = np.quantile(data, 0.25), np.quantile(data, 0.5), np.quantile(data, 0.75)"
   ]
  },
  {
   "cell_type": "code",
   "execution_count": 12,
   "id": "historic-canadian",
   "metadata": {},
   "outputs": [
    {
     "data": {
      "text/plain": [
       "(2.75, 10.0, 14.25)"
      ]
     },
     "execution_count": 12,
     "metadata": {},
     "output_type": "execute_result"
    }
   ],
   "source": [
    "first_quartile, second, third"
   ]
  },
  {
   "cell_type": "code",
   "execution_count": 8,
   "id": "unsigned-symphony",
   "metadata": {},
   "outputs": [
    {
     "data": {
      "text/plain": [
       "9"
      ]
     },
     "execution_count": 8,
     "metadata": {},
     "output_type": "execute_result"
    }
   ],
   "source": [
    "list_ = [7, 1, 9, 13, 10]\n",
    "\n",
    "\n",
    "findMedian(list_)"
   ]
  },
  {
   "cell_type": "code",
   "execution_count": 9,
   "id": "tracked-optimization",
   "metadata": {},
   "outputs": [
    {
     "data": {
      "text/plain": [
       "8.0"
      ]
     },
     "execution_count": 9,
     "metadata": {},
     "output_type": "execute_result"
    }
   ],
   "source": [
    "np.mean(np.array(list_))"
   ]
  },
  {
   "cell_type": "code",
   "execution_count": 10,
   "id": "british-sugar",
   "metadata": {},
   "outputs": [
    {
     "data": {
      "text/plain": [
       "4.0"
      ]
     },
     "execution_count": 10,
     "metadata": {},
     "output_type": "execute_result"
    }
   ],
   "source": [
    "np.std(np.array(list_))"
   ]
  },
  {
   "cell_type": "code",
   "execution_count": null,
   "id": "statutory-evans",
   "metadata": {},
   "outputs": [],
   "source": [
    "total_sum = 0\n",
    "for i in range(i, j):\n",
    "    total_sum+=i\n",
    "\n",
    "for j in range(j, k-1, -1):\n",
    "    total_sum+=j"
   ]
  },
  {
   "cell_type": "markdown",
   "id": "76bd18eb",
   "metadata": {},
   "source": [
    "PhD interview preparations"
   ]
  },
  {
   "cell_type": "code",
   "execution_count": 8,
   "id": "f11889eb",
   "metadata": {},
   "outputs": [],
   "source": [
    "def is_palindrome(s):\n",
    "    return all(s[i] == s[-i-1] for i in range(len(s)//2))\n",
    "\n",
    "# or \n",
    "def is_palindrome_alt(s):\n",
    "    return s == s[::-1]"
   ]
  },
  {
   "cell_type": "code",
   "execution_count": 9,
   "id": "379184da",
   "metadata": {},
   "outputs": [
    {
     "data": {
      "text/plain": [
       "(False, False)"
      ]
     },
     "execution_count": 9,
     "metadata": {},
     "output_type": "execute_result"
    }
   ],
   "source": [
    "is_palindrome([2, 5, 7, 4, 5]), is_palindrome_alt([2, 5, 7, 4, 5])"
   ]
  },
  {
   "cell_type": "code",
   "execution_count": 22,
   "id": "bdc6390e",
   "metadata": {},
   "outputs": [],
   "source": [
    "def is_anagram(a, b):\n",
    "    try:\n",
    "        assert len(a) == len(b)\n",
    "    except AssertionError:\n",
    "        raise(AssertionError('Both string must have same length'))\n",
    "    if (len(set(a)) == len(a)) and (len(set(b)) == len(b)):\n",
    "        return all(c in b for c in a) and all(c in a for c in b)\n",
    "    return False"
   ]
  },
  {
   "cell_type": "code",
   "execution_count": 25,
   "id": "f41e6f20",
   "metadata": {},
   "outputs": [
    {
     "data": {
      "text/plain": [
       "False"
      ]
     },
     "execution_count": 25,
     "metadata": {},
     "output_type": "execute_result"
    }
   ],
   "source": [
    "is_anagram('1233', '4123')"
   ]
  },
  {
   "cell_type": "code",
   "execution_count": 3,
   "id": "7714fc0c",
   "metadata": {},
   "outputs": [],
   "source": [
    "def fibonacci(n):\n",
    "    fib_nums = [1,1]\n",
    "    for _ in range(2,n+1):\n",
    "        fib_nums.append(fib_nums[-1]+fib_nums[-2])\n",
    "    return fib_nums[-1]"
   ]
  },
  {
   "cell_type": "code",
   "execution_count": 4,
   "id": "23f04ade",
   "metadata": {},
   "outputs": [
    {
     "data": {
      "text/plain": [
       "987"
      ]
     },
     "execution_count": 4,
     "metadata": {},
     "output_type": "execute_result"
    }
   ],
   "source": [
    "fibonacci(15)"
   ]
  },
  {
   "cell_type": "code",
   "execution_count": 40,
   "id": "1e780946",
   "metadata": {},
   "outputs": [],
   "source": [
    "# counts the number of times a charachter appears in a given list\n",
    "def repeated_chars(some_list):\n",
    "    unique_chars = set(some_list)\n",
    "    repeat_nums = {}\n",
    "    for char in unique_chars:\n",
    "        count = sum(val == char for val in some_list)\n",
    "        repeat_nums[str(char)] = count\n",
    "\n",
    "    return repeat_nums\n",
    "repeated_chars([1, 3, 6, 9, 2, 4, 1, 4, 4, 5, 3, 5])"
   ]
  },
  {
   "cell_type": "code",
   "execution_count": 1,
   "id": "863cebaa",
   "metadata": {},
   "outputs": [
    {
     "data": {
      "text/plain": [
       "0"
      ]
     },
     "execution_count": 1,
     "metadata": {},
     "output_type": "execute_result"
    }
   ],
   "source": [
    "prices = [7,1,5,3,6,4]\n",
    "\n",
    "prices.index(7)"
   ]
  },
  {
   "cell_type": "code",
   "execution_count": 10,
   "id": "58226a5e",
   "metadata": {},
   "outputs": [
    {
     "name": "stdout",
     "output_type": "stream",
     "text": [
      "Buying stock at price 1\n",
      "Selling stock at price 6\n",
      "Profit made at sale: 5\n",
      "Buying stock at price 1\n",
      "Selling stock at price 9\n",
      "Profit made at sale: 8\n"
     ]
    }
   ],
   "source": [
    "class Solution:\n",
    "    def maxProfit(self, prices):\n",
    "        buy_amount = min(prices)\n",
    "        print(f\"Buying stock at price {buy_amount}\")\n",
    "        prosp_prices = prices[prices.index(buy_amount):]\n",
    "        sell_amount = max(prosp_prices)\n",
    "        print(f\"Selling stock at price {sell_amount}\")\n",
    "        return f\"Profit made at sale: {sell_amount - buy_amount}\"\n",
    "\n",
    "best_buy = Solution()\n",
    "print(best_buy.maxProfit(prices))\n",
    "print(best_buy.maxProfit([1, 3, 6, 9, 2, 4, 1, 4, 4, 5, 3, 5]))"
   ]
  },
  {
   "cell_type": "code",
   "execution_count": 9,
   "id": "05fadbc3",
   "metadata": {},
   "outputs": [
    {
     "name": "stdout",
     "output_type": "stream",
     "text": [
      "Buying stock at price 1\n",
      "Selling stock at price 1\n"
     ]
    },
    {
     "data": {
      "text/plain": [
       "'Profit made at sale: 0'"
      ]
     },
     "execution_count": 9,
     "metadata": {},
     "output_type": "execute_result"
    }
   ],
   "source": [
    "best_buy.maxProfit([7,6,4,3,1])"
   ]
  },
  {
   "cell_type": "code",
   "execution_count": 23,
   "id": "f3ea1334",
   "metadata": {},
   "outputs": [
    {
     "data": {
      "text/plain": [
       "[7, 1, 5, 3, 6, 4]"
      ]
     },
     "execution_count": 23,
     "metadata": {},
     "output_type": "execute_result"
    }
   ],
   "source": [
    "prices"
   ]
  },
  {
   "cell_type": "code",
   "execution_count": 29,
   "id": "85e6c4f4",
   "metadata": {},
   "outputs": [
    {
     "name": "stdout",
     "output_type": "stream",
     "text": [
      "buy at 1\n",
      "made profit 4\n",
      "buy at 3\n",
      "made profit 7\n",
      "buy at 4\n",
      "7\n"
     ]
    }
   ],
   "source": [
    "class Solution2:\n",
    "    def maxProfit(self, prices):\n",
    "        profit = 0\n",
    "        for _ in range(len(prices)):\n",
    "            buy_amount = min(prices)\n",
    "            print(f\"buy at {buy_amount}\")\n",
    "            price_trend = prices[prices.index(buy_amount)+1:]\n",
    "            if (len(prices) > 2) and (buy_amount <  price_trend[0]):\n",
    "                profit += (price_trend[0] - buy_amount)\n",
    "                print(f\"made profit {profit}\")\n",
    "                prices = price_trend\n",
    "            else:\n",
    "                return profit\n",
    "        \n",
    "\n",
    "best_buy2 = Solution2()\n",
    "print(best_buy2.maxProfit(prices))"
   ]
  },
  {
   "cell_type": "code",
   "execution_count": 52,
   "id": "50f08093",
   "metadata": {},
   "outputs": [
    {
     "name": "stdout",
     "output_type": "stream",
     "text": [
      "Probability of sum of two is: 0.0833\n"
     ]
    },
    {
     "data": {
      "text/plain": [
       "array([[ 2.,  3.,  4.,  5.,  6.,  7.],\n",
       "       [ 3.,  4.,  5.,  6.,  7.,  8.],\n",
       "       [ 4.,  5.,  6.,  7.,  8.,  9.],\n",
       "       [ 5.,  6.,  7.,  8.,  9., 10.],\n",
       "       [ 6.,  7.,  8.,  9., 10., 11.],\n",
       "       [ 7.,  8.,  9., 10., 11., 12.]])"
      ]
     },
     "execution_count": 52,
     "metadata": {},
     "output_type": "execute_result"
    }
   ],
   "source": [
    "# Probability of getting a sum of 4 for two equally weighted dice\n",
    "import numpy as np\n",
    "rol = list(range(1, 7))\n",
    "matrix_pairs = np.zeros(36).reshape(6,6)\n",
    "\n",
    "count = 0\n",
    "for i in range(len(rol)):\n",
    "    for j in range(len(rol)):\n",
    "        sum = rol[i] + rol[j]\n",
    "        matrix_pairs[i, j] = sum\n",
    "        if sum == 4:\n",
    "            count +=1\n",
    "print(f\"Probability of sum of two is: {count/36:.4f}\")\n",
    "matrix_pairs"
   ]
  },
  {
   "cell_type": "code",
   "execution_count": 54,
   "id": "b9f15589",
   "metadata": {},
   "outputs": [
    {
     "data": {
      "text/plain": [
       "array([[ 2.,  3.,  4.,  5.,  6.,  7.],\n",
       "       [ 3.,  4.,  5.,  6.,  7.,  8.],\n",
       "       [ 4.,  5.,  6.,  7.,  8.,  9.],\n",
       "       [ 5.,  6.,  7.,  8.,  9., 10.],\n",
       "       [ 6.,  7.,  8.,  9., 10., 11.],\n",
       "       [ 7.,  8.,  9., 10., 11., 12.]])"
      ]
     },
     "execution_count": 54,
     "metadata": {},
     "output_type": "execute_result"
    }
   ],
   "source": [
    "matrix_pairs"
   ]
  },
  {
   "cell_type": "code",
   "execution_count": null,
   "id": "f3b7c593",
   "metadata": {},
   "outputs": [],
   "source": []
  }
 ],
 "metadata": {
  "kernelspec": {
   "display_name": "Python 3",
   "language": "python",
   "name": "python3"
  },
  "language_info": {
   "codemirror_mode": {
    "name": "ipython",
    "version": 3
   },
   "file_extension": ".py",
   "mimetype": "text/x-python",
   "name": "python",
   "nbconvert_exporter": "python",
   "pygments_lexer": "ipython3",
   "version": "3.9.5"
  }
 },
 "nbformat": 4,
 "nbformat_minor": 5
}
