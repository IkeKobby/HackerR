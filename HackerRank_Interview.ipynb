{
 "cells": [
  {
   "cell_type": "code",
   "execution_count": 1,
   "id": "narrow-temperature",
   "metadata": {},
   "outputs": [],
   "source": [
    "import numpy as np"
   ]
  },
  {
   "cell_type": "code",
   "execution_count": 240,
   "id": "emerging-bidder",
   "metadata": {},
   "outputs": [],
   "source": [
    "def plusMinus(arr):\n",
    "    # Write your code here\n",
    "    n = len(arr)\n",
    "    \n",
    "    if [(-100 <= i <= 100) for i in arr] and (0 < len(arr) <= 100):\n",
    "        positive_values = [i for i in arr if i > 0]\n",
    "        number_positive_values = len(positive_values)\n",
    "        postive_ratio = number_positive_values / n\n",
    "        postive_ratio = '{:.6f}'.format(postive_ratio)\n",
    "        \n",
    "        negative_values = [i for i in arr if i < 0]\n",
    "        number_negative_values = len(negative_values)\n",
    "        negative_ratio = number_negative_values / n\n",
    "        negative_ratio = '\\n{:.6f}'.format(negative_ratio)\n",
    "        \n",
    "        zero_values = [i for i in arr if i == 0]\n",
    "        number_zero_values = len(zero_values)\n",
    "        zero_ratio = number_zero_values / n\n",
    "        zero_ratio = '\\n{:.6f}'.format(zero_ratio)\n",
    "    else:\n",
    "        raise ValueError('The size of the array is outside the the range 0 < n <= 100')\n",
    "        \n",
    "    print(postive_ratio, negative_ratio, zero_ratio)"
   ]
  },
  {
   "cell_type": "code",
   "execution_count": 117,
   "id": "mobile-buying",
   "metadata": {},
   "outputs": [],
   "source": [
    "arr = np.array(np.random.normal(0, 1, 100))"
   ]
  },
  {
   "cell_type": "code",
   "execution_count": 4,
   "id": "cheap-stanley",
   "metadata": {},
   "outputs": [
    {
     "name": "stdout",
     "output_type": "stream",
     "text": [
      "0.450000 \n",
      "0.550000 \n",
      "0.000000\n"
     ]
    }
   ],
   "source": [
    "plusMinus(arr)"
   ]
  },
  {
   "cell_type": "code",
   "execution_count": 2,
   "id": "4f08fbcd",
   "metadata": {},
   "outputs": [
    {
     "data": {
      "text/plain": [
       "'jump'"
      ]
     },
     "execution_count": 2,
     "metadata": {},
     "output_type": "execute_result"
    }
   ],
   "source": [
    "\"jumping\".split(\"ing\")[0]"
   ]
  },
  {
   "cell_type": "markdown",
   "id": "needed-trailer",
   "metadata": {},
   "source": [
    "# Question 2"
   ]
  },
  {
   "cell_type": "code",
   "execution_count": 5,
   "id": "precise-violin",
   "metadata": {},
   "outputs": [],
   "source": [
    "def miniMaxSum(arr):\n",
    "    # Write your code here\n",
    "    if [(1 <= i <= 10**9) for i in arr]:\n",
    "        sum_ = []\n",
    "        if arr.count(arr[0]) == len(arr):\n",
    "            print( 4*len(arr), 4*len(arr) )\n",
    "        else:\n",
    "            for i in range(len(arr)):\n",
    "                sum_.append(sum([val for val in arr if not arr[i] == val]))\n",
    "            min_value = min(sum_)\n",
    "            max_value = max(sum_)\n",
    "            print(min_value, max_value)\n",
    "    else:\n",
    "        raise ValueError('An array value is off the constraint--> 1 <= arr[i] <= 10^9')"
   ]
  },
  {
   "cell_type": "code",
   "execution_count": 6,
   "id": "fiscal-namibia",
   "metadata": {},
   "outputs": [
    {
     "name": "stdout",
     "output_type": "stream",
     "text": [
      "10 14\n"
     ]
    }
   ],
   "source": [
    "miniMaxSum([1,2,3,4,5])"
   ]
  },
  {
   "cell_type": "code",
   "execution_count": 7,
   "id": "placed-azerbaijan",
   "metadata": {},
   "outputs": [],
   "source": [
    "a = [5,5,5,5,5]"
   ]
  },
  {
   "cell_type": "markdown",
   "id": "solar-chinese",
   "metadata": {},
   "source": [
    "# Question 3"
   ]
  },
  {
   "cell_type": "code",
   "execution_count": 8,
   "id": "beautiful-confusion",
   "metadata": {},
   "outputs": [],
   "source": [
    "def timeConversion(s):\n",
    "    # Write your code here\n",
    "    hour = int(s[:2])\n",
    "    \n",
    "    if (hour == 12) and s.endswith('AM'):\n",
    "        hour  = '00'\n",
    "        return (hour + s[2:8])\n",
    "    \n",
    "    elif (hour != 12) and s.endswith('AM') :\n",
    "        hour = s[:2]\n",
    "        return (hour + s[2:8])\n",
    "\n",
    "    elif (hour != 12) and s.endswith('PM'):\n",
    "        hour = str(int(s[:2]) + 12)\n",
    "        return (hour + s[2:8])\n",
    "    \n",
    "    elif (hour == 12) and s.endswith('PM'):\n",
    "        hour = s[:2]\n",
    "        return (hour + s[2:8])"
   ]
  },
  {
   "cell_type": "code",
   "execution_count": 9,
   "id": "nervous-generation",
   "metadata": {},
   "outputs": [],
   "source": [
    "s = '12:01:00PM'\n",
    "\n",
    "s2 = '12:05:45PM'"
   ]
  },
  {
   "cell_type": "code",
   "execution_count": 10,
   "id": "adopted-retro",
   "metadata": {},
   "outputs": [
    {
     "data": {
      "text/plain": [
       "'12:05:45'"
      ]
     },
     "execution_count": 10,
     "metadata": {},
     "output_type": "execute_result"
    }
   ],
   "source": [
    "timeConversion(s2)"
   ]
  },
  {
   "cell_type": "code",
   "execution_count": 11,
   "id": "ultimate-actress",
   "metadata": {},
   "outputs": [],
   "source": [
    "def fizzBuzz(n):\n",
    "    # Write your code here\n",
    "    for i in range(1, n+1):\n",
    "        if i % 3 == 0 and i % 5 == 0:\n",
    "            print('FizzBuzz')\n",
    "        elif i % 3 ==0 and i%5 != 0:\n",
    "            print('Fizz')\n",
    "        elif i % 5 ==0 and i%3 != 0:\n",
    "            print('Buzz')\n",
    "        elif i % 3 != 0 or i%5 != 0:\n",
    "            print(i)"
   ]
  },
  {
   "cell_type": "code",
   "execution_count": 12,
   "id": "residential-muslim",
   "metadata": {},
   "outputs": [
    {
     "name": "stdout",
     "output_type": "stream",
     "text": [
      "1\n",
      "2\n",
      "Fizz\n",
      "4\n",
      "Buzz\n",
      "Fizz\n",
      "7\n",
      "8\n",
      "Fizz\n",
      "Buzz\n"
     ]
    }
   ],
   "source": [
    "fizzBuzz(10)"
   ]
  },
  {
   "cell_type": "code",
   "execution_count": 7,
   "id": "parental-composition",
   "metadata": {},
   "outputs": [],
   "source": [
    "def findMedian(arr):\n",
    "    # Write your code here\n",
    "    n = len(arr)\n",
    "    arr = sorted(arr)\n",
    "    median =  arr[n//2]\n",
    "    return median"
   ]
  },
  {
   "cell_type": "code",
   "execution_count": 14,
   "id": "mechanical-balloon",
   "metadata": {},
   "outputs": [
    {
     "data": {
      "text/plain": [
       "3"
      ]
     },
     "execution_count": 14,
     "metadata": {},
     "output_type": "execute_result"
    }
   ],
   "source": [
    "arr = [0, 3, 4, 1, 5]\n",
    "findMedian(arr)"
   ]
  },
  {
   "cell_type": "code",
   "execution_count": 15,
   "id": "experienced-softball",
   "metadata": {},
   "outputs": [
    {
     "name": "stdout",
     "output_type": "stream",
     "text": [
      "Median is: 3\n"
     ]
    }
   ],
   "source": [
    "n_num = [1, 2, 3, 4, 5]\n",
    "n = len(n_num)\n",
    "n_num.sort()\n",
    "  \n",
    "if n % 2 == 0:\n",
    "    median1 = n_num[n//2]\n",
    "    median2 = n_num[n//2 - 1]\n",
    "    median = (median1 + median2)/2\n",
    "else:\n",
    "    median = n_num[n//2]\n",
    "print(\"Median is: \" + str(median))"
   ]
  },
  {
   "cell_type": "code",
   "execution_count": 16,
   "id": "acoustic-prayer",
   "metadata": {},
   "outputs": [
    {
     "data": {
      "text/plain": [
       "False"
      ]
     },
     "execution_count": 16,
     "metadata": {},
     "output_type": "execute_result"
    }
   ],
   "source": [
    " arr.count(arr[0]) == len(arr)"
   ]
  },
  {
   "cell_type": "code",
   "execution_count": 17,
   "id": "collectible-mexico",
   "metadata": {},
   "outputs": [],
   "source": [
    "def lonelyinteger(a):\n",
    "    # Write your code here\n",
    "    n = len(a)\n",
    "    if (1 <= n < 100) and n % 2 != 0:\n",
    "        unique_element = [a[i] for i in range(len(a)) if a.count(a[i]) < 2][0]\n",
    "        return unique_element\n",
    "    else:\n",
    "        raise ValueError('Length of array must be odd and one unique element')"
   ]
  },
  {
   "cell_type": "code",
   "execution_count": 18,
   "id": "attempted-assistant",
   "metadata": {},
   "outputs": [
    {
     "data": {
      "text/plain": [
       "array([[1, 2, 3],\n",
       "       [4, 5, 6],\n",
       "       [9, 8, 9]])"
      ]
     },
     "execution_count": 18,
     "metadata": {},
     "output_type": "execute_result"
    }
   ],
   "source": [
    "matrix = np.array([ [1, 2, 3],\n",
    "           [4, 5, 6],\n",
    "           [9, 8, 9] ])\n",
    "matrix"
   ]
  },
  {
   "cell_type": "code",
   "execution_count": 19,
   "id": "backed-smooth",
   "metadata": {},
   "outputs": [],
   "source": [
    "def diagonalDifference(arr):\n",
    "    # Write your code here\n",
    "    dim = len(arr)\n",
    "    right_diag = [arr[i][i] for i in range(dim)]\n",
    "    left_diag = [arr[i][-(i+1)] for i in range(dim)]\n",
    "\n",
    "    return abs(sum(right_diag) - sum(left_diag))"
   ]
  },
  {
   "cell_type": "code",
   "execution_count": 20,
   "id": "indoor-power",
   "metadata": {},
   "outputs": [
    {
     "data": {
      "text/plain": [
       "2"
      ]
     },
     "execution_count": 20,
     "metadata": {},
     "output_type": "execute_result"
    }
   ],
   "source": [
    "diagonalDifference(matrix)"
   ]
  },
  {
   "cell_type": "code",
   "execution_count": 22,
   "id": "indoor-hammer",
   "metadata": {},
   "outputs": [],
   "source": [
    "arr4 = [1, 1, 3, 2, 1]"
   ]
  },
  {
   "cell_type": "code",
   "execution_count": 29,
   "id": "forward-afghanistan",
   "metadata": {},
   "outputs": [
    {
     "data": {
      "text/plain": [
       "array([0, 0, 0, 0, 0])"
      ]
     },
     "execution_count": 29,
     "metadata": {},
     "output_type": "execute_result"
    }
   ],
   "source": [
    "np.zeros(len(set(arr)), dtype = 'int')"
   ]
  },
  {
   "cell_type": "code",
   "execution_count": 37,
   "id": "resistant-victory",
   "metadata": {},
   "outputs": [
    {
     "data": {
      "text/plain": [
       "[0, 3, 4, 1, 5]"
      ]
     },
     "execution_count": 37,
     "metadata": {},
     "output_type": "execute_result"
    }
   ],
   "source": [
    "arr"
   ]
  },
  {
   "cell_type": "code",
   "execution_count": 54,
   "id": "sustainable-lawrence",
   "metadata": {},
   "outputs": [],
   "source": [
    "def countingSort(arr):\n",
    "    # Write your code here\n",
    "    results = [0 for _ in range(100)]\n",
    "    for i in range(len(arr)):\n",
    "        results[arr[i]] += 1 \n",
    "    return results"
   ]
  },
  {
   "cell_type": "code",
   "execution_count": 56,
   "id": "wooden-military",
   "metadata": {},
   "outputs": [
    {
     "data": {
      "text/plain": [
       "[1, 1, 0, 1, 1, 1, 0, 0, 0, 0]"
      ]
     },
     "execution_count": 56,
     "metadata": {},
     "output_type": "execute_result"
    }
   ],
   "source": [
    "sorting = countingSort(arr)\n",
    "sorting[:10]"
   ]
  },
  {
   "cell_type": "code",
   "execution_count": 97,
   "id": "local-bracket",
   "metadata": {},
   "outputs": [],
   "source": [
    "def ReverseMatrix(arr):\n",
    "    col_2 = [arr[i][2] for i in range(len(arr))]\n",
    "    col_2 = [col_2[len(col_2)-i] for i in range(1, len(col_2) + 1) ]\n",
    "    \n",
    "    for i in range(len(arr)):\n",
    "        arr[i][2] = col_2[i]\n",
    "        \n",
    "    row_0 = arr[0]\n",
    "    row_0 = [row_0[len(row_0)-i] for i in range(1, len(row_0) + 1) ]\n",
    "    \n",
    "    for i in range(len(arr)):\n",
    "        arr[0][i] = row_0[i]\n",
    "        \n",
    "    return sum(arr[0][:2]) + sum(arr[1][:2])"
   ]
  },
  {
   "cell_type": "code",
   "execution_count": 108,
   "id": "major-calcium",
   "metadata": {},
   "outputs": [],
   "source": [
    "matrix = [[112, 42, 83, 119], [56, 125, 56, 49], \\\n",
    "[15, 78, 101, 43], [62, 98, 114, 108]]"
   ]
  },
  {
   "cell_type": "code",
   "execution_count": 109,
   "id": "improving-short",
   "metadata": {},
   "outputs": [
    {
     "data": {
      "text/plain": [
       "array([[112,  42,  83, 119],\n",
       "       [ 56, 125,  56,  49],\n",
       "       [ 15,  78, 101,  43],\n",
       "       [ 62,  98, 114, 108]])"
      ]
     },
     "execution_count": 109,
     "metadata": {},
     "output_type": "execute_result"
    }
   ],
   "source": [
    "np.array(matrix)"
   ]
  },
  {
   "cell_type": "code",
   "execution_count": 110,
   "id": "suburban-administration",
   "metadata": {},
   "outputs": [
    {
     "data": {
      "text/plain": [
       "414"
      ]
     },
     "execution_count": 110,
     "metadata": {},
     "output_type": "execute_result"
    }
   ],
   "source": [
    "ReverseMatrix(matrix)"
   ]
  },
  {
   "cell_type": "code",
   "execution_count": 111,
   "id": "treated-bridge",
   "metadata": {},
   "outputs": [
    {
     "data": {
      "text/plain": [
       "array([[119, 114,  42, 112],\n",
       "       [ 56, 125, 101,  49],\n",
       "       [ 15,  78,  56,  43],\n",
       "       [ 62,  98,  83, 108]])"
      ]
     },
     "execution_count": 111,
     "metadata": {},
     "output_type": "execute_result"
    }
   ],
   "source": [
    "np.array(matrix)"
   ]
  },
  {
   "cell_type": "code",
   "execution_count": 47,
   "id": "lovely-institution",
   "metadata": {},
   "outputs": [],
   "source": [
    "def pearson_coefficient(pys_score, his_score):\n",
    "    \n",
    "    mean_pys_score = sum(pys_score) / len(pys_score)\n",
    "    mean_his_score = sum(his_score) / len(his_score)\n",
    "\n",
    "    pys_mean_dev_sum = [(x - mean_pys_score) for x in pys_score]\n",
    "    \n",
    "    his_mean_dev_sum = [(y - mean_his_score) for y in his_score]\n",
    "    \n",
    "    numerator = sum( [( x*y ) for x, y in zip(pys_mean_dev_sum, his_mean_dev_sum) ])\n",
    "    \n",
    "\n",
    "    pys_mean_dev_sum_squared = [(x - mean_pys_score)**2 for x in pys_score]\n",
    "    his_mean_dev_sum_squared = [(y - mean_his_score)**2 for y in his_score]\n",
    "    \n",
    "    denominator = sum(pys_mean_dev_sum_squared) * sum(his_mean_dev_sum_squared)\n",
    "\n",
    "    pearson_coefficient = (numerator) / (denominator) ** 0.5\n",
    "    print(round(pearson_coefficient, 3))"
   ]
  },
  {
   "cell_type": "code",
   "execution_count": 48,
   "id": "usual-boating",
   "metadata": {},
   "outputs": [
    {
     "name": "stdout",
     "output_type": "stream",
     "text": [
      "0.145\n"
     ]
    }
   ],
   "source": [
    "pys_score = [15,  12 , 8,   8,  7,   7,   7,   6,   5,   3]\n",
    "his_score = [10,  25,  17,  11,  13,  17,  20,  13,  9,   15]\n",
    "\n",
    "Score1 = [15,12,8,8,7,7,7,6,5,3] \n",
    "Score2 = [10,25,17,11,13,17,20,13,9,15]\n",
    "\n",
    "pearson_coefficient(pys_score, his_score)"
   ]
  },
  {
   "cell_type": "markdown",
   "id": "bulgarian-projector",
   "metadata": {},
   "source": [
    "# Linear regression"
   ]
  },
  {
   "cell_type": "code",
   "execution_count": null,
   "id": "designing-trainer",
   "metadata": {},
   "outputs": [],
   "source": [
    "import numpy as np\n",
    "from sklearn import linear_model as lm\n",
    "\n",
    "F, N = map(int, input().split())\n",
    "train_vals = np.array([input().split() for _ in range(N)], float)\n",
    "T = int(input())\n",
    "test = np.array([input().split() for _ in range(T)], float)\n",
    "\n",
    "linReg = lm.LinearRegression()\n",
    "linReg.fit(train_vals[:, :-1], train_vals[:, -1])\n",
    "yhat = linReg.predict(test)\n",
    "print(*yhat, sep='\\n')"
   ]
  },
  {
   "cell_type": "code",
   "execution_count": 11,
   "id": "classical-feeling",
   "metadata": {},
   "outputs": [],
   "source": [
    "import numpy as np\n",
    "data = [1,1, 1, 2,3, 5, 5, 8, 12, 13, 14, 14, 15, 15, 18, 100]\n",
    "first_quartile, second, third = np.quantile(data, 0.25), np.quantile(data, 0.5), np.quantile(data, 0.75)"
   ]
  },
  {
   "cell_type": "code",
   "execution_count": 12,
   "id": "historic-canadian",
   "metadata": {},
   "outputs": [
    {
     "data": {
      "text/plain": [
       "(2.75, 10.0, 14.25)"
      ]
     },
     "execution_count": 12,
     "metadata": {},
     "output_type": "execute_result"
    }
   ],
   "source": [
    "first_quartile, second, third"
   ]
  },
  {
   "cell_type": "code",
   "execution_count": 8,
   "id": "unsigned-symphony",
   "metadata": {},
   "outputs": [
    {
     "data": {
      "text/plain": [
       "9"
      ]
     },
     "execution_count": 8,
     "metadata": {},
     "output_type": "execute_result"
    }
   ],
   "source": [
    "list_ = [7, 1, 9, 13, 10]\n",
    "\n",
    "\n",
    "findMedian(list_)"
   ]
  },
  {
   "cell_type": "code",
   "execution_count": 9,
   "id": "tracked-optimization",
   "metadata": {},
   "outputs": [
    {
     "data": {
      "text/plain": [
       "8.0"
      ]
     },
     "execution_count": 9,
     "metadata": {},
     "output_type": "execute_result"
    }
   ],
   "source": [
    "np.mean(np.array(list_))"
   ]
  },
  {
   "cell_type": "code",
   "execution_count": 10,
   "id": "british-sugar",
   "metadata": {},
   "outputs": [
    {
     "data": {
      "text/plain": [
       "4.0"
      ]
     },
     "execution_count": 10,
     "metadata": {},
     "output_type": "execute_result"
    }
   ],
   "source": [
    "np.std(np.array(list_))"
   ]
  },
  {
   "cell_type": "code",
   "execution_count": null,
   "id": "statutory-evans",
   "metadata": {},
   "outputs": [],
   "source": [
    "total_sum = 0\n",
    "for i in range(i, j):\n",
    "    total_sum+=i\n",
    "\n",
    "for j in range(j, k-1, -1):\n",
    "    total_sum+=j"
   ]
  },
  {
   "cell_type": "markdown",
   "id": "76bd18eb",
   "metadata": {},
   "source": [
    "PhD interview preparations"
   ]
  },
  {
   "cell_type": "code",
   "execution_count": 8,
   "id": "f11889eb",
   "metadata": {},
   "outputs": [],
   "source": [
    "def is_palindrome(s):\n",
    "    return all(s[i] == s[-i-1] for i in range(len(s)//2))\n",
    "\n",
    "# or \n",
    "def is_palindrome_alt(s):\n",
    "    return s == s[::-1]"
   ]
  },
  {
   "cell_type": "code",
   "execution_count": 9,
   "id": "379184da",
   "metadata": {},
   "outputs": [
    {
     "data": {
      "text/plain": [
       "(False, False)"
      ]
     },
     "execution_count": 9,
     "metadata": {},
     "output_type": "execute_result"
    }
   ],
   "source": [
    "is_palindrome([2, 5, 7, 4, 5]), is_palindrome_alt([2, 5, 7, 4, 5])"
   ]
  },
  {
   "cell_type": "code",
   "execution_count": 22,
   "id": "bdc6390e",
   "metadata": {},
   "outputs": [],
   "source": [
    "def is_anagram(a, b):\n",
    "    try:\n",
    "        assert len(a) == len(b)\n",
    "    except AssertionError:\n",
    "        raise(AssertionError('Both string must have same length'))\n",
    "    if (len(set(a)) == len(a)) and (len(set(b)) == len(b)):\n",
    "        return all(c in b for c in a) and all(c in a for c in b)\n",
    "    return False"
   ]
  },
  {
   "cell_type": "code",
   "execution_count": 25,
   "id": "f41e6f20",
   "metadata": {},
   "outputs": [
    {
     "data": {
      "text/plain": [
       "False"
      ]
     },
     "execution_count": 25,
     "metadata": {},
     "output_type": "execute_result"
    }
   ],
   "source": [
    "is_anagram('1233', '4123')"
   ]
  },
  {
   "cell_type": "code",
   "execution_count": 157,
   "id": "de57ca3d",
   "metadata": {},
   "outputs": [
    {
     "data": {
      "text/plain": [
       "55"
      ]
     },
     "execution_count": 157,
     "metadata": {},
     "output_type": "execute_result"
    }
   ],
   "source": [
    "def fibonacci(n):\n",
    "    if (n < 0):\n",
    "        return \"Not Valid\"\n",
    "    elif (n == 0):\n",
    "        return 0\n",
    "    elif n in [1, 2]:\n",
    "        return 1\n",
    "    return fibonacci(n-1) + fibonacci(n-2)\n",
    "\n",
    "fibonacci(10)"
   ]
  },
  {
   "cell_type": "code",
   "execution_count": 152,
   "id": "7714fc0c",
   "metadata": {},
   "outputs": [],
   "source": [
    "def fibonacci(n):\n",
    "    if ( n < 0):\n",
    "        return \"Not Valid Number\"\n",
    "    elif n == 0:\n",
    "        return 0\n",
    "    elif (n in [1, 2]):\n",
    "        return 1\n",
    "    fib_nums = [0, 1, 1]\n",
    "    fib_nums.extend(fib_nums[-1]+fib_nums[-2] for _ in range(2,n+1))\n",
    "    return fib_nums[-2]"
   ]
  },
  {
   "cell_type": "code",
   "execution_count": 154,
   "id": "23f04ade",
   "metadata": {},
   "outputs": [
    {
     "data": {
      "text/plain": [
       "55"
      ]
     },
     "execution_count": 154,
     "metadata": {},
     "output_type": "execute_result"
    }
   ],
   "source": [
    "fibonacci(10)"
   ]
  },
  {
   "cell_type": "code",
   "execution_count": 40,
   "id": "1e780946",
   "metadata": {},
   "outputs": [],
   "source": [
    "# counts the number of times a charachter appears in a given list\n",
    "def repeated_chars(some_list):\n",
    "    unique_chars = set(some_list)\n",
    "    repeat_nums = {}\n",
    "    for char in unique_chars:\n",
    "        count = sum(val == char for val in some_list)\n",
    "        repeat_nums[str(char)] = count\n",
    "\n",
    "    return repeat_nums\n",
    "repeated_chars([1, 3, 6, 9, 2, 4, 1, 4, 4, 5, 3, 5])"
   ]
  },
  {
   "cell_type": "code",
   "execution_count": 1,
   "id": "863cebaa",
   "metadata": {},
   "outputs": [
    {
     "data": {
      "text/plain": [
       "0"
      ]
     },
     "execution_count": 1,
     "metadata": {},
     "output_type": "execute_result"
    }
   ],
   "source": [
    "prices = [7,1,5,3,6,4]\n",
    "\n",
    "prices.index(7)"
   ]
  },
  {
   "cell_type": "code",
   "execution_count": 10,
   "id": "58226a5e",
   "metadata": {},
   "outputs": [
    {
     "name": "stdout",
     "output_type": "stream",
     "text": [
      "Buying stock at price 1\n",
      "Selling stock at price 6\n",
      "Profit made at sale: 5\n",
      "Buying stock at price 1\n",
      "Selling stock at price 9\n",
      "Profit made at sale: 8\n"
     ]
    }
   ],
   "source": [
    "class Solution:\n",
    "    def maxProfit(self, prices):\n",
    "        buy_amount = min(prices)\n",
    "        print(f\"Buying stock at price {buy_amount}\")\n",
    "        prosp_prices = prices[prices.index(buy_amount):]\n",
    "        sell_amount = max(prosp_prices)\n",
    "        print(f\"Selling stock at price {sell_amount}\")\n",
    "        return f\"Profit made at sale: {sell_amount - buy_amount}\"\n",
    "\n",
    "best_buy = Solution()\n",
    "print(best_buy.maxProfit(prices))\n",
    "print(best_buy.maxProfit([1, 3, 6, 9, 2, 4, 1, 4, 4, 5, 3, 5]))"
   ]
  },
  {
   "cell_type": "code",
   "execution_count": 9,
   "id": "05fadbc3",
   "metadata": {},
   "outputs": [
    {
     "name": "stdout",
     "output_type": "stream",
     "text": [
      "Buying stock at price 1\n",
      "Selling stock at price 1\n"
     ]
    },
    {
     "data": {
      "text/plain": [
       "'Profit made at sale: 0'"
      ]
     },
     "execution_count": 9,
     "metadata": {},
     "output_type": "execute_result"
    }
   ],
   "source": [
    "best_buy.maxProfit([7,6,4,3,1])"
   ]
  },
  {
   "cell_type": "code",
   "execution_count": 23,
   "id": "f3ea1334",
   "metadata": {},
   "outputs": [
    {
     "data": {
      "text/plain": [
       "[7, 1, 5, 3, 6, 4]"
      ]
     },
     "execution_count": 23,
     "metadata": {},
     "output_type": "execute_result"
    }
   ],
   "source": [
    "prices"
   ]
  },
  {
   "cell_type": "code",
   "execution_count": 29,
   "id": "85e6c4f4",
   "metadata": {},
   "outputs": [
    {
     "name": "stdout",
     "output_type": "stream",
     "text": [
      "buy at 1\n",
      "made profit 4\n",
      "buy at 3\n",
      "made profit 7\n",
      "buy at 4\n",
      "7\n"
     ]
    }
   ],
   "source": [
    "class Solution2:\n",
    "    def maxProfit(self, prices):\n",
    "        profit = 0\n",
    "        for _ in range(len(prices)):\n",
    "            buy_amount = min(prices)\n",
    "            print(f\"buy at {buy_amount}\")\n",
    "            price_trend = prices[prices.index(buy_amount)+1:]\n",
    "            if (len(prices) > 2) and (buy_amount <  price_trend[0]):\n",
    "                profit += (price_trend[0] - buy_amount)\n",
    "                print(f\"made profit {profit}\")\n",
    "                prices = price_trend\n",
    "            else:\n",
    "                return profit\n",
    "        \n",
    "\n",
    "best_buy2 = Solution2()\n",
    "print(best_buy2.maxProfit(prices))"
   ]
  },
  {
   "cell_type": "code",
   "execution_count": 52,
   "id": "50f08093",
   "metadata": {},
   "outputs": [
    {
     "name": "stdout",
     "output_type": "stream",
     "text": [
      "Probability of sum of two is: 0.0833\n"
     ]
    },
    {
     "data": {
      "text/plain": [
       "array([[ 2.,  3.,  4.,  5.,  6.,  7.],\n",
       "       [ 3.,  4.,  5.,  6.,  7.,  8.],\n",
       "       [ 4.,  5.,  6.,  7.,  8.,  9.],\n",
       "       [ 5.,  6.,  7.,  8.,  9., 10.],\n",
       "       [ 6.,  7.,  8.,  9., 10., 11.],\n",
       "       [ 7.,  8.,  9., 10., 11., 12.]])"
      ]
     },
     "execution_count": 52,
     "metadata": {},
     "output_type": "execute_result"
    }
   ],
   "source": [
    "# Probability of getting a sum of 4 for two equally weighted dice\n",
    "import numpy as np\n",
    "rol = list(range(1, 7))\n",
    "matrix_pairs = np.zeros(36).reshape(6,6)\n",
    "\n",
    "count = 0\n",
    "for i in range(len(rol)):\n",
    "    for j in range(len(rol)):\n",
    "        sum = rol[i] + rol[j]\n",
    "        matrix_pairs[i, j] = sum\n",
    "        if sum == 4:\n",
    "            count +=1\n",
    "print(f\"Probability of sum of two is: {count/36:.4f}\")\n",
    "matrix_pairs"
   ]
  },
  {
   "cell_type": "code",
   "execution_count": 54,
   "id": "b9f15589",
   "metadata": {},
   "outputs": [
    {
     "data": {
      "text/plain": [
       "array([[ 2.,  3.,  4.,  5.,  6.,  7.],\n",
       "       [ 3.,  4.,  5.,  6.,  7.,  8.],\n",
       "       [ 4.,  5.,  6.,  7.,  8.,  9.],\n",
       "       [ 5.,  6.,  7.,  8.,  9., 10.],\n",
       "       [ 6.,  7.,  8.,  9., 10., 11.],\n",
       "       [ 7.,  8.,  9., 10., 11., 12.]])"
      ]
     },
     "execution_count": 54,
     "metadata": {},
     "output_type": "execute_result"
    }
   ],
   "source": [
    "matrix_pairs"
   ]
  },
  {
   "cell_type": "code",
   "execution_count": 18,
   "id": "f3b7c593",
   "metadata": {},
   "outputs": [],
   "source": [
    "def reverse_string(string):\n",
    "    text = list(string.split(' '))\n",
    "    text = text[::-1]\n",
    "    rev = ''\n",
    "    for word in text:\n",
    "        rev = f\"{rev} {word}\"\n",
    "    return rev[1:]"
   ]
  },
  {
   "cell_type": "code",
   "execution_count": 20,
   "id": "cc7c04e5",
   "metadata": {},
   "outputs": [
    {
     "name": "stdout",
     "output_type": "stream",
     "text": [
      "here world Hello\n",
      "me for good for together work things all hopefully but again self old that to back going of sure not  am I\n"
     ]
    }
   ],
   "source": [
    "print(reverse_string('Hello world here'))\n",
    "print(reverse_string('I am  not sure of going back to that old self again but hopefully all things work together for good for me'))"
   ]
  },
  {
   "cell_type": "code",
   "execution_count": 10,
   "id": "d6fb4efa",
   "metadata": {},
   "outputs": [
    {
     "data": {
      "text/plain": [
       "['h', 'b', 'd', 'g', 'f', 'e', 'a', 'c']"
      ]
     },
     "execution_count": 10,
     "metadata": {},
     "output_type": "execute_result"
    }
   ],
   "source": [
    "\n",
    "my_string =  'abcefghecd'\n",
    "unique = list(set(list(my_string)))\n",
    "unique"
   ]
  },
  {
   "cell_type": "code",
   "execution_count": null,
   "id": "c9a52956",
   "metadata": {},
   "outputs": [],
   "source": [
    "class Solution:\n",
    "    def lengthOfLongestSubstring(self, s: str) -> int:\n",
    "        self.count = 0\n",
    "        self.length = 0\n",
    "        self.len = len(s)\n",
    "        self.subString = ''\n",
    "    def store_current_seq(self, seq):\n",
    "        self.length = max(self.length, len(seq))\n",
    "        self.count = 0\n",
    "        self.subString = ''\n",
    "    def count_seq(self, string):\n",
    "        for les in range(1, self.len+1):\n",
    "            if string[les - 1] != string[les] != string[les + 1]:\n",
    "                self.subString += string[les]"
   ]
  },
  {
   "cell_type": "code",
   "execution_count": 22,
   "id": "92a7a5f3",
   "metadata": {},
   "outputs": [],
   "source": [
    "class Solution:\n",
    "    def romanToInt(self, s: str) -> int:\n",
    "        romanNum = {\n",
    "            \"I\" : 1,\n",
    "            \"V\" : 5,\n",
    "            \"X\" : 10,\n",
    "            \"L\" : 50,\n",
    "            \"C\" : 100,\n",
    "            \"D\" : 500,\n",
    "            \"M\" : 1000\n",
    "        }\n",
    "        subtraction_cases = [\"IV\", \"IX\", \"XL\", \"XC\", \"CD\", \"CM\"]\n",
    "        romanInteger = 0\n",
    "        for index, char in enumerate(s):\n",
    "            if index+1 < len(s):\n",
    "                bi_check = s[index] + s[index + 1]\n",
    "                if bi_check not in subtraction_cases:\n",
    "                    romanInteger += romanNum[char]\n",
    "                else:\n",
    "                    romanInteger -= romanNum[char]\n",
    "            else:\n",
    "                romanInteger += romanNum[char]\n",
    "        return romanInteger"
   ]
  },
  {
   "cell_type": "code",
   "execution_count": 23,
   "id": "afac2e61",
   "metadata": {},
   "outputs": [],
   "source": [
    "get_integer = Solution()"
   ]
  },
  {
   "cell_type": "code",
   "execution_count": 27,
   "id": "e9e3f2eb",
   "metadata": {},
   "outputs": [
    {
     "data": {
      "text/plain": [
       "19"
      ]
     },
     "execution_count": 27,
     "metadata": {},
     "output_type": "execute_result"
    }
   ],
   "source": [
    "get_integer.romanToInt(\"IVVVV\")"
   ]
  },
  {
   "cell_type": "markdown",
   "id": "dcf63f17",
   "metadata": {},
   "source": [
    "- Given coins of vale 1, 3, and 6 and a sum, what is the minimum number of coins needed to reach the sum?"
   ]
  },
  {
   "cell_type": "code",
   "execution_count": 185,
   "id": "c8bdfaff",
   "metadata": {},
   "outputs": [
    {
     "name": "stdout",
     "output_type": "stream",
     "text": [
      "[9, 6, 5, 1, 9, 6, 5, 1]\n",
      "9\n",
      "1\n",
      "1\n"
     ]
    },
    {
     "data": {
      "text/plain": [
       "3"
      ]
     },
     "execution_count": 185,
     "metadata": {},
     "output_type": "execute_result"
    }
   ],
   "source": [
    "def get_min(array, value):\n",
    "    extend_array = array * 2\n",
    "    print(extend_array)\n",
    "    if value == 0:\n",
    "        return 0\n",
    "    val = value\n",
    "    count  = 0\n",
    "    while val != 0:\n",
    "        for idx in range(len(array)):\n",
    "            for coin in array:\n",
    "                if (coin <= val) and (extend_array[idx] + extend_array[idx+1]) < value:\n",
    "                    print(coin)\n",
    "                    val -= coin\n",
    "                    count += 1\n",
    "    return count\n",
    "\n",
    "get_min([9, 6, 5, 1], 11)\n"
   ]
  },
  {
   "cell_type": "code",
   "execution_count": 173,
   "id": "f518e18d",
   "metadata": {},
   "outputs": [
    {
     "name": "stdout",
     "output_type": "stream",
     "text": [
      "0 9\n",
      "1 6\n",
      "2 5\n",
      "3 1\n"
     ]
    }
   ],
   "source": [
    "for idx, c in enumerate([9, 6, 5, 1]):\n",
    "    print(idx, c)"
   ]
  },
  {
   "cell_type": "code",
   "execution_count": 169,
   "id": "77faf564",
   "metadata": {},
   "outputs": [
    {
     "data": {
      "text/plain": [
       "2"
      ]
     },
     "execution_count": 169,
     "metadata": {},
     "output_type": "execute_result"
    }
   ],
   "source": [
    "def find_minimum_coins(coins, value):\n",
    "    get_sum = 0\n",
    "    get_picked_coins = []\n",
    "    get_coupled_coins = []\n",
    "    for _ in range(value):\n",
    "        for coin in coins:\n",
    "            get_picked_coins.append(coin)\n",
    "            get_sum += coin\n",
    "            if get_sum == value:\n",
    "                get_coupled_coins.append(get_picked_coins)\n",
    "                get_picked_coins = []\n",
    "                get_sum = 0\n",
    "    num_coins = np.array([len(coins) for coins in get_coupled_coins])\n",
    "    return num_coins[np.argmin(num_coins)]\n",
    "\n",
    "find_minimum_coins(coins= [6, 5,1], value = 11)"
   ]
  },
  {
   "cell_type": "code",
   "execution_count": 37,
   "id": "5a334304",
   "metadata": {},
   "outputs": [
    {
     "data": {
      "text/plain": [
       "[3, 6]"
      ]
     },
     "execution_count": 37,
     "metadata": {},
     "output_type": "execute_result"
    }
   ],
   "source": [
    "picked"
   ]
  },
  {
   "cell_type": "code",
   "execution_count": 44,
   "id": "19960c3a",
   "metadata": {},
   "outputs": [],
   "source": [
    "def reverse_number(number):\n",
    "    return number if len(number) == 0  else reverse_number(number[1:]) + number[0]"
   ]
  },
  {
   "cell_type": "code",
   "execution_count": 113,
   "id": "2af0f1d4",
   "metadata": {},
   "outputs": [
    {
     "data": {
      "text/plain": [
       "'zyx'"
      ]
     },
     "execution_count": 113,
     "metadata": {},
     "output_type": "execute_result"
    }
   ],
   "source": [
    "reverse_number(\"xyz\")"
   ]
  },
  {
   "cell_type": "code",
   "execution_count": 46,
   "id": "e3098147",
   "metadata": {},
   "outputs": [
    {
     "data": {
      "text/plain": [
       "1752"
      ]
     },
     "execution_count": 46,
     "metadata": {},
     "output_type": "execute_result"
    }
   ],
   "source": [
    "number = \"2571\"\n",
    "int(reverse_number(number))"
   ]
  },
  {
   "cell_type": "markdown",
   "id": "9c7cfda7",
   "metadata": {},
   "source": [
    "- Given an integer, add it with the reverse of the value, and check if it’s a palindrome. If it isn’t a palindrome, repeat the process until the sum is a palindrome. Print out the number of iterations and the value of the final palindrome."
   ]
  },
  {
   "cell_type": "code",
   "execution_count": 193,
   "id": "0400f059",
   "metadata": {},
   "outputs": [],
   "source": [
    "def is_reverse_sum_palindrome(integer):\n",
    "    check = False\n",
    "    sum_ = 0\n",
    "    # start = time.time()\n",
    "    while not check and sum_ < 123456789:\n",
    "        sum_ += integer + int(reverse_number(str(integer)))\n",
    "        is_palindrome_ = (str(sum_) == reverse_number(str(sum_)))\n",
    "        check = is_palindrome_\n",
    "        if check:\n",
    "            print(sum_)\n",
    "            return check\n",
    "    return \"No palindrome exist for this number\""
   ]
  },
  {
   "cell_type": "code",
   "execution_count": 202,
   "id": "18fb00fb",
   "metadata": {},
   "outputs": [
    {
     "name": "stdout",
     "output_type": "stream",
     "text": [
      "77\n"
     ]
    },
    {
     "data": {
      "text/plain": [
       "True"
      ]
     },
     "execution_count": 202,
     "metadata": {},
     "output_type": "execute_result"
    }
   ],
   "source": [
    "is_reverse_sum_palindrome(43)"
   ]
  },
  {
   "cell_type": "code",
   "execution_count": 203,
   "id": "f781139a",
   "metadata": {},
   "outputs": [
    {
     "data": {
      "text/plain": [
       "1.05"
      ]
     },
     "execution_count": 203,
     "metadata": {},
     "output_type": "execute_result"
    }
   ],
   "source": [
    "float(\"1.05\")"
   ]
  },
  {
   "cell_type": "code",
   "execution_count": 206,
   "id": "b5b7c35c",
   "metadata": {},
   "outputs": [
    {
     "data": {
      "text/plain": [
       "1.08"
      ]
     },
     "execution_count": 206,
     "metadata": {},
     "output_type": "execute_result"
    }
   ],
   "source": [
    "float(\"2017-05-13, 1.08, Ohio\".split(\",\")[1])"
   ]
  },
  {
   "cell_type": "code",
   "execution_count": 190,
   "id": "bf6226aa",
   "metadata": {},
   "outputs": [],
   "source": [
    "def minCoins(coins, value):\n",
    "    if (value == 0):\n",
    "        return 0\n",
    "\n",
    "    count = 123456\n",
    "\n",
    "    for i in range(len(coins)):\n",
    "        if (coins[i] <= value):\n",
    "            count_mile = minCoins(coins, value - coins[i])\n",
    "\n",
    "            if (count_mile != count and count_mile + 1 < count):\n",
    "                count = count_mile + 1\n",
    "    return count"
   ]
  },
  {
   "cell_type": "code",
   "execution_count": 191,
   "id": "9df9f616",
   "metadata": {},
   "outputs": [
    {
     "data": {
      "text/plain": [
       "2"
      ]
     },
     "execution_count": 191,
     "metadata": {},
     "output_type": "execute_result"
    }
   ],
   "source": [
    "minCoins(coins=[9, 6, 5, 1], value=11)"
   ]
  },
  {
   "cell_type": "code",
   "execution_count": 192,
   "id": "ff0275b4",
   "metadata": {},
   "outputs": [
    {
     "name": "stdout",
     "output_type": "stream",
     "text": [
      "4\n"
     ]
    }
   ],
   "source": [
    "def count(coins, n, sum):\n",
    " \n",
    "    # If sum is 0 then there is 1\n",
    "    # solution (do not include any coin)\n",
    "    if (sum == 0):\n",
    "        return 1\n",
    " \n",
    "    # If sum is less than 0 then no\n",
    "    # solution exists\n",
    "    if (sum < 0):\n",
    "        return 0\n",
    " \n",
    "    # If there are no coins and sum\n",
    "    # is greater than 0, then no\n",
    "    # solution exist\n",
    "    if (n <= 0):\n",
    "        return 0\n",
    " \n",
    "    # count is sum of solutions (i)\n",
    "    # including coins[n-1] (ii) excluding coins[n-1]\n",
    "    return count(coins, n - 1, sum) + count(coins, n, sum-coins[n-1])\n",
    " \n",
    " \n",
    "# Driver program to test above function\n",
    "coins = [1, 2, 3]\n",
    "n = len(coins)\n",
    "print(count(coins, n, 4))\n",
    " \n",
    "# This code is contributed by Smitha Dinesh Semwal"
   ]
  },
  {
   "cell_type": "code",
   "execution_count": 234,
   "id": "d7e17718",
   "metadata": {},
   "outputs": [
    {
     "data": {
      "text/plain": [
       "[1245, 1303, 1349, 5434, 5549]"
      ]
     },
     "execution_count": 234,
     "metadata": {},
     "output_type": "execute_result"
    }
   ],
   "source": [
    "myList = [1245, 1303, 5434, 1349, 5549]\n",
    "myList  = sorted(myList)\n",
    "myList"
   ]
  },
  {
   "cell_type": "code",
   "execution_count": 244,
   "id": "ea2b7287",
   "metadata": {},
   "outputs": [
    {
     "name": "stdout",
     "output_type": "stream",
     "text": [
      "1245, 58, 46, 4085, 115, "
     ]
    }
   ],
   "source": [
    "i = 0\n",
    "dist = []\n",
    "print(myList[i], end=', ')\n",
    "while i < len(myList)-1:\n",
    "    dist.append(myList[i+1] - myList[i])\n",
    "    i += 1\n",
    "\n",
    "for item in dist:\n",
    "    print(item, end= ', ')"
   ]
  },
  {
   "cell_type": "code",
   "execution_count": 4,
   "id": "47ec609a",
   "metadata": {},
   "outputs": [],
   "source": [
    "def even(start, n):\n",
    "\n",
    "    evens = []\n",
    "    if (start % 2 == 0):\n",
    "        evens.append(start)\n",
    "    \n",
    "    while len(evens) != n:\n",
    "        start += 1\n",
    "        if (start % 2 == 0):\n",
    "            evens.append(start)\n",
    "    return evens"
   ]
  },
  {
   "cell_type": "code",
   "execution_count": 8,
   "id": "f3e97ebf",
   "metadata": {},
   "outputs": [
    {
     "data": {
      "text/plain": [
       "[46, 48, 50, 52, 54, 56, 58, 60]"
      ]
     },
     "execution_count": 8,
     "metadata": {},
     "output_type": "execute_result"
    }
   ],
   "source": [
    "even(45, 8)"
   ]
  },
  {
   "cell_type": "code",
   "execution_count": 19,
   "id": "30bf4228",
   "metadata": {},
   "outputs": [],
   "source": [
    "def stemmer(text):\n",
    "    stemmed = []\n",
    "    words = text.split(\" \")\n",
    "    for word in words:\n",
    "        if (word.endswith('ed')):\n",
    "            stemmed.append(word.strip('ed'))\n",
    "        elif (word.endswith('ly')):\n",
    "            stemmed.append(word.strip('ly'))\n",
    "        elif (word.endswith('ing')):\n",
    "            stemmed.append(word.strip('ing'))\n",
    "        elif len(word) > 8:\n",
    "            stemmed.append(word[:8])\n",
    "        else:\n",
    "            stemmed.append(word)\n",
    "    return \" \".join(stemmed)"
   ]
  },
  {
   "cell_type": "code",
   "execution_count": 20,
   "id": "f0e6cfbb",
   "metadata": {},
   "outputs": [
    {
     "data": {
      "text/plain": [
       "'an extreme dangerou dog is bark'"
      ]
     },
     "execution_count": 20,
     "metadata": {},
     "output_type": "execute_result"
    }
   ],
   "source": [
    "stemmer(\"an extremely dangerous dog is barking\")"
   ]
  },
  {
   "cell_type": "code",
   "execution_count": 21,
   "id": "9721351c",
   "metadata": {},
   "outputs": [
    {
     "data": {
      "text/plain": [
       "'a boy is jump quick'"
      ]
     },
     "execution_count": 21,
     "metadata": {},
     "output_type": "execute_result"
    }
   ],
   "source": [
    "stemmer(\"a boy is jumping quickly\")"
   ]
  },
  {
   "cell_type": "code",
   "execution_count": 1,
   "id": "a9adc000",
   "metadata": {},
   "outputs": [],
   "source": [
    "# check the shape of y = math.sqrt(1 - x**2)\n",
    "import math, random\n",
    "import numpy as np\n",
    "def circle(x):\n",
    "    return [math.sqrt(1 - i**2) for i in x]\n",
    "\n",
    "x = np.linspace(0, .08, 10)\n",
    "y = circle(x)"
   ]
  },
  {
   "cell_type": "code",
   "execution_count": 2,
   "id": "a10f5950",
   "metadata": {},
   "outputs": [
    {
     "data": {
      "text/plain": [
       "[<matplotlib.lines.Line2D at 0x1127b9bd0>]"
      ]
     },
     "execution_count": 2,
     "metadata": {},
     "output_type": "execute_result"
    },
    {
     "data": {
      "image/png": "[encoded data removed]",
      "text/plain": [
       "<Figure size 640x480 with 1 Axes>"
      ]
     },
     "metadata": {},
     "output_type": "display_data"
    }
   ],
   "source": [
    "import matplotlib.pyplot as plt\n",
    "\n",
    "plt.plot(x, y)"
   ]
  },
  {
   "cell_type": "code",
   "execution_count": null,
   "id": "93310d4e",
   "metadata": {},
   "outputs": [],
   "source": [
    "import numpy as np\n",
    "\n",
    "def gower_distance(X):\n",
    "    \"\"\"\n",
    "    Computes the Gower distance matrix for a dataset X containing both numerical and categorical variables.\n",
    "\n",
    "    Parameters\n",
    "    ----------\n",
    "    X : array-like, shape (n_samples, n_features)\n",
    "        The dataset to compute the distance matrix for.\n",
    "\n",
    "    Returns\n",
    "    -------\n",
    "    distance_matrix : array-like, shape (n_samples, n_samples)\n",
    "        The Gower distance matrix for the input dataset X.\n",
    "    \"\"\"\n",
    "    # Compute the range of each numerical feature\n",
    "    ranges = np.ptp(X, axis=0)\n",
    "\n",
    "    # Compute the absolute difference between each pair of observations for each feature\n",
    "    abs_diff = np.abs(X[:, None, :] - X)\n",
    "\n",
    "    # Compute the similarity matrix for the categorical features using the Jaccard index\n",
    "    jaccard = np.zeros((X.shape[0], X.shape[0]))\n",
    "    for i in range(X.shape[1]):\n",
    "        if np.issubdtype(X[:, i].dtype, np.number):\n",
    "            # Skip numerical features\n",
    "            continue\n",
    "        # Compute the Jaccard similarity for the ith categorical feature\n",
    "        jaccard[:, :] += (abs_diff[:, :, i] == 0).astype(int)\n",
    "    jaccard /= (abs_diff.shape[2] - np.sum(np.isnan(abs_diff[:, :, :]), axis=2))\n",
    "\n",
    "    # Compute the distance matrix using the Gower distance formula\n",
    "    weights = np.concatenate((ranges[np.newaxis, :], np.ones((X.shape[1] - len(ranges), X.shape[1]))), axis=0)\n",
    "    return np.sqrt(np.sum((weights * abs_diff) ** 2, axis=2) / np.sum(weights ** 2, axis=1))\n",
    "\n",
    "def jaccard_distance(X):\n",
    "    \"\"\"\n",
    "    Computes the Jaccard distance matrix for a dataset X containing only categorical variables.\n",
    "\n",
    "    Parameters\n",
    "    ----------\n",
    "    X : array-like, shape (n_samples, n_features)\n",
    "        The dataset to compute the distance matrix for.\n",
    "\n",
    "    Returns\n",
    "    -------\n",
    "    distance_matrix : array-like, shape (n_samples, n_samples)\n",
    "        The Jaccard distance matrix for the input dataset X.\n",
    "    \"\"\"\n",
    "    # Compute the number of common categories between each pair of observations for each feature\n",
    "    common_categories = np.zeros((X.shape[0], X.shape[0]))\n",
    "    for i in range(X.shape[1]):\n",
    "        # Compute the number of common categories for the ith feature\n",
    "        common_categories[:, :] += (X[:, i][:, np.newaxis] == X[:, i])\n",
    "    common_categories -= np.eye(X.shape[0])  # Remove diagonal elements\n",
    "\n",
    "    # Compute the distance matrix using the Jaccard distance formula\n",
    "    return 1 - common_categories / (X.shape[1] - np.sum(np.isnan(X[:, :]), axis=1)[:, np.newaxis])\n"
   ]
  }
 ],
 "metadata": {
  "kernelspec": {
   "display_name": "Python 3.10.5 ('ds-programming')",
   "language": "python",
   "name": "python3"
  },
  "language_info": {
   "codemirror_mode": {
    "name": "ipython",
    "version": 3
   },
   "file_extension": ".py",
   "mimetype": "text/x-python",
   "name": "python",
   "nbconvert_exporter": "python",
   "pygments_lexer": "ipython3",
   "version": "3.10.5"
  },
  "vscode": {
   "interpreter": {
    "hash": "cfc71c34d48b261f0004d1deaefd0af265fe2de35d1f3d2a51ed9864995bca13"
   }
  }
 },
 "nbformat": 4,
 "nbformat_minor": 5
}
